{
 "cells": [
  {
   "cell_type": "markdown",
   "metadata": {},
   "source": [
    "# MSE"
   ]
  },
  {
   "cell_type": "code",
   "execution_count": 4,
   "metadata": {},
   "outputs": [
    {
     "name": "stdout",
     "output_type": "stream",
     "text": [
      "tensor(0.3333)\n",
      "0.3333333432674408\n"
     ]
    }
   ],
   "source": [
    "import torch\n",
    "import torch.nn as nn\n",
    "import numpy as np\n",
    "import math\n",
    "#MSE Loss\n",
    "x = torch.Tensor([1,2,3])\n",
    "target = torch.Tensor([2,2,3])\n",
    "criterion = nn.MSELoss()\n",
    "loss = criterion(x,target)\n",
    "print(loss)\n",
    "print(loss.item())"
   ]
  },
  {
   "cell_type": "markdown",
   "metadata": {},
   "source": [
    "# Cross-Entropy"
   ]
  },
  {
   "cell_type": "code",
   "execution_count": 5,
   "metadata": {},
   "outputs": [
    {
     "name": "stdout",
     "output_type": "stream",
     "text": [
      "tensor([0.9459, 0.6897])\n",
      "tensor(0.8178)\n",
      "tensor(1.6356)\n"
     ]
    }
   ],
   "source": [
    "import torch\n",
    "import torch.nn as nn\n",
    "import numpy as np\n",
    "import math\n",
    "\n",
    "predict = torch.Tensor([[0.1,0.5,0.4],[0.1,0.1,0.8]])\n",
    "label = torch.LongTensor([1,2])\n",
    "loss = nn.CrossEntropyLoss(reduction=\"none\")\n",
    "print(loss(predict,label))\n",
    "loss = nn.CrossEntropyLoss(reduction=\"mean\")\n",
    "print(loss(predict,label))\n",
    "loss = nn.CrossEntropyLoss(reduction=\"sum\")\n",
    "print(loss(predict,label))"
   ]
  },
  {
   "cell_type": "markdown",
   "metadata": {},
   "source": [
    "## Define Cost"
   ]
  },
  {
   "cell_type": "code",
   "execution_count": 16,
   "metadata": {},
   "outputs": [
    {
     "name": "stdout",
     "output_type": "stream",
     "text": [
      "Using cpu device\n",
      "[ 4.758217  13.291159   1.1667422  1.2169385  4.660825 ]\n",
      "5.018775939941406\n"
     ]
    }
   ],
   "source": [
    "import torch\n",
    "from torchvision.datasets import mnist\n",
    "from torch.utils.data import DataLoader\n",
    "import numpy as np\n",
    "import torch.nn.functional as F\n",
    "# Get cpu or gpu device for training.\n",
    "device = \"cuda\" if torch.cuda.is_available() else \"cpu\"\n",
    "print(\"Using {} device\".format(device))\n",
    "def data_transform(x):\n",
    "    x = np.array(x, dtype = 'float32') / 255\n",
    "    x = x.reshape((-1, ))\n",
    "    x = torch.from_numpy(x)\n",
    "    return x\n",
    "trainset = mnist.MNIST('./dataset/mnist', train=True, transform=data_transform, download=True)\n",
    "testset = mnist.MNIST('./dataset/mnist', train = False, transform=data_transform, download=True)\n",
    "\n",
    "train_data = DataLoader(trainset, batch_size=64, shuffle=True)\n",
    "test_data = DataLoader(testset, batch_size=128, shuffle=False)\n",
    "class DNN(nn.Module):\n",
    "    def __init__(self):\n",
    "        super(DNN, self).__init__()\n",
    "        self.fc1 = nn.Linear(28*28, 500)\n",
    "        self.fc2 = nn.Linear(500, 250)\n",
    "        self.fc3 = nn.Linear(250, 125)\n",
    "        self.fc4 = nn.Linear(125, 10)\n",
    "    def forward(self, x):\n",
    "        x = F.relu(self.fc1(x))\n",
    "        x = F.relu(self.fc2(x))\n",
    "        x = F.relu(self.fc3(x))\n",
    "        x = self.fc4(x)\n",
    "        return x\n",
    "# build model\n",
    "model = DNN().to(device)\n",
    "criterion1 = nn.CrossEntropyLoss(reduction=\"none\") # reduction=\"none\"，各自算各自的\n",
    "criterion2 = nn.CrossEntropyLoss()\n",
    "model.train()\n",
    "pred = model(trainset.data[0:5].reshape(-1,784).float())\n",
    "# Calculate loss\n",
    "loss = criterion1(pred, trainset.targets[0:5])\n",
    "print(loss.detach().numpy())\n",
    "avg_loss = criterion2(pred, trainset.targets[0:5])\n",
    "print(avg_loss.item())"
   ]
  },
  {
   "cell_type": "code",
   "execution_count": 15,
   "metadata": {},
   "outputs": [
    {
     "name": "stdout",
     "output_type": "stream",
     "text": [
      "None\n",
      "tensor([0.7311, 0.8808, 0.9526], grad_fn=<SigmoidBackward0>)\n",
      "tensor([0.1966, 0.1050, 0.0452])\n"
     ]
    }
   ],
   "source": [
    "a = torch.tensor([1.,2.,3.], requires_grad = True)# float 才能計算梯度\n",
    "print(a.grad)\n",
    "out = a.sigmoid()\n",
    "print(out)\n",
    "\n",
    "out.sum().backward()  # 必須加backward() 才能計算梯度\n",
    "print(a.grad)"
   ]
  },
  {
   "cell_type": "code",
   "execution_count": null,
   "metadata": {},
   "outputs": [],
   "source": []
  }
 ],
 "metadata": {
  "kernelspec": {
   "display_name": "Python 3 (ipykernel)",
   "language": "python",
   "name": "python3"
  },
  "language_info": {
   "codemirror_mode": {
    "name": "ipython",
    "version": 3
   },
   "file_extension": ".py",
   "mimetype": "text/x-python",
   "name": "python",
   "nbconvert_exporter": "python",
   "pygments_lexer": "ipython3",
   "version": "3.8.13"
  }
 },
 "nbformat": 4,
 "nbformat_minor": 4
}

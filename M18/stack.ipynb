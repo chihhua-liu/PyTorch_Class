{
 "cells": [
  {
   "cell_type": "markdown",
   "metadata": {},
   "source": [
    "### Module 18:  unbind使用 \n",
    "#### unbind at axis = 0\n",
    "![Alt text](./images/basic_tensorflow/unstack_axis0.png)\n",
    "#### unbind at axis = 1\n",
    "![Alt text](./images/basic_tensorflow/unstack_axis1.png)\n",
    "#### unbind at axis = 2\n",
    "![Alt text](./images/basic_tensorflow/unstack_axis2.png)\n"
   ]
  },
  {
   "cell_type": "code",
   "execution_count": 1,
   "metadata": {},
   "outputs": [
    {
     "name": "stdout",
     "output_type": "stream",
     "text": [
      "torch.Size([3, 2])\n",
      "tensor([0.7000, 0.9000])\n",
      "tensor([0.1000, 0.4000])\n",
      "tensor([0.5000, 0.8000])\n",
      "tensor([0.7000, 0.1000, 0.5000])\n",
      "tensor([0.9000, 0.4000, 0.8000])\n"
     ]
    },
    {
     "data": {
      "text/plain": [
       "(tensor([1, 2, 3]), tensor([4, 5, 6]), tensor([7, 8, 9]))"
      ]
     },
     "execution_count": 1,
     "metadata": {},
     "output_type": "execute_result"
    }
   ],
   "source": [
    "import torch\n",
    "x = torch.tensor([[0.7,0.9],[0.1,0.4],[0.5,0.8]])\n",
    "print(x.shape)\n",
    "axis0_x = torch.unbind(x, dim=0)\n",
    "print(axis0_x[0])\n",
    "print(axis0_x[1])\n",
    "print(axis0_x[2])\n",
    "axis1_x = torch.unbind(x, dim=1)\n",
    "print(axis1_x[0])\n",
    "print(axis1_x[1])\n",
    "torch.unbind(torch.tensor([[1, 2, 3],\n",
    "                           [4, 5, 6],\n",
    "                           [7, 8, 9]]))"
   ]
  },
  {
   "cell_type": "markdown",
   "metadata": {},
   "source": [
    "### stack使用\n",
    "#### origin data\n",
    "![Alt text](./images/basic_tensorflow/stack_origin.png)\n",
    "#### stack at axis = 0\n",
    "![Alt text](./images/basic_tensorflow/stack_axis0.png)\n",
    "#### stack at axis = 1\n",
    "![Alt text](./images/basic_tensorflow/stack_axis1.png)"
   ]
  },
  {
   "cell_type": "code",
   "execution_count": 4,
   "metadata": {},
   "outputs": [
    {
     "name": "stdout",
     "output_type": "stream",
     "text": [
      "x.shape =  torch.Size([3, 2])\n",
      "y.shape =  torch.Size([3, 2])\n",
      "0=============================\n",
      "tensor([[[1., 2.],\n",
      "         [3., 4.],\n",
      "         [5., 6.]],\n",
      "\n",
      "        [[1., 1.],\n",
      "         [0., 1.],\n",
      "         [1., 1.]]])\n",
      "torch.Size([2, 3, 2])\n",
      "1=============================\n",
      "tensor([[[1., 2.],\n",
      "         [1., 1.]],\n",
      "\n",
      "        [[3., 4.],\n",
      "         [0., 1.]],\n",
      "\n",
      "        [[5., 6.],\n",
      "         [1., 1.]]])\n",
      "torch.Size([3, 2, 2])\n",
      "2=============================\n",
      "tensor([[[1., 1.],\n",
      "         [2., 1.]],\n",
      "\n",
      "        [[3., 0.],\n",
      "         [4., 1.]],\n",
      "\n",
      "        [[5., 1.],\n",
      "         [6., 1.]]])\n",
      "torch.Size([3, 2, 2])\n"
     ]
    }
   ],
   "source": [
    "import torch\n",
    "x = torch.tensor([[1.0, 2.0], [3.0, 4.0], [5.0, 6.0]])\n",
    "y = torch.tensor([[1.0, 1.0], [0.0, 1.0], [1.0, 1.0]])\n",
    "print('x.shape = ',x.shape)\n",
    "print('y.shape = ',y.shape)\n",
    "stacked_axis0_result = torch.stack([x,y], axis=0)\n",
    "stacked_axis1_result = torch.stack([x,y], axis=1)\n",
    "stacked_axis2_result = torch.stack([x,y], axis=2)\n",
    "print('0=============================') \n",
    "print(stacked_axis0_result)\n",
    "print(stacked_axis0_result.shape)\n",
    "print('1=============================')    \n",
    "print(stacked_axis1_result)\n",
    "print(stacked_axis1_result.shape)\n",
    "print('2=============================')\n",
    "print(stacked_axis2_result)\n",
    "print(stacked_axis2_result.shape)"
   ]
  },
  {
   "cell_type": "markdown",
   "metadata": {},
   "source": [
    "\n",
    "\n"
   ]
  }
 ],
 "metadata": {
  "kernelspec": {
   "display_name": "Python 3 (ipykernel)",
   "language": "python",
   "name": "python3"
  },
  "language_info": {
   "codemirror_mode": {
    "name": "ipython",
    "version": 3
   },
   "file_extension": ".py",
   "mimetype": "text/x-python",
   "name": "python",
   "nbconvert_exporter": "python",
   "pygments_lexer": "ipython3",
   "version": "3.8.13"
  }
 },
 "nbformat": 4,
 "nbformat_minor": 2
}

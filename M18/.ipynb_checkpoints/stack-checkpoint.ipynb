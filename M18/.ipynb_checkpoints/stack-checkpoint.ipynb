{
 "cells": [
  {
   "cell_type": "markdown",
   "metadata": {},
   "source": [
    "# unbind使用 \n",
    "\n",
    "### unbind at axis = 0\n",
    "![Alt text](./images/basic_tensorflow/unstack_axis0.png)\n",
    "### unbind at axis = 1\n",
    "![Alt text](./images/basic_tensorflow/unstack_axis1.png)\n",
    "### unbind at axis = 2\n",
    "![Alt text](./images/basic_tensorflow/unstack_axis2.png)\n"
   ]
  },
  {
   "cell_type": "code",
   "execution_count": 1,
   "metadata": {},
   "outputs": [
    {
     "name": "stdout",
     "output_type": "stream",
     "text": [
      "tensor([0.7000, 0.9000])\n",
      "tensor([0.1000, 0.4000])\n",
      "tensor([0.5000, 0.8000])\n"
     ]
    }
   ],
   "source": [
    "import torch\n",
    "x = torch.tensor([[0.7,0.9],[0.1,0.4],[0.5,0.8]])\n",
    "axis0_x = torch.unbind(x, dim=0)\n",
    "\n",
    "print(axis0_x[0])\n",
    "print(axis0_x[1])\n",
    "print(axis0_x[2])\n",
    "#>>> torch.unbind(torch.tensor([[1, 2, 3],\n",
    "#>>>                            [4, 5, 6],\n",
    "#>>>                            [7, 8, 9]]))"
   ]
  },
  {
   "cell_type": "markdown",
   "metadata": {},
   "source": [
    "## stack使用\n",
    "\n",
    "### origin data\n",
    "![Alt text](./images/basic_tensorflow/stack_origin.png)\n",
    "### stack at axis = 0\n",
    "![Alt text](./images/basic_tensorflow/stack_axis0.png)\n",
    "### stack at axis = 1\n",
    "![Alt text](./images/basic_tensorflow/stack_axis1.png)"
   ]
  },
  {
   "cell_type": "code",
   "execution_count": 2,
   "metadata": {},
   "outputs": [
    {
     "name": "stdout",
     "output_type": "stream",
     "text": [
      "tensor([[[1., 2.],\n",
      "         [3., 4.],\n",
      "         [5., 6.]],\n",
      "\n",
      "        [[1., 1.],\n",
      "         [0., 1.],\n",
      "         [1., 1.]]])\n",
      "torch.Size([2, 3, 2])\n",
      "tensor([[[1., 2.],\n",
      "         [1., 1.]],\n",
      "\n",
      "        [[3., 4.],\n",
      "         [0., 1.]],\n",
      "\n",
      "        [[5., 6.],\n",
      "         [1., 1.]]])\n",
      "torch.Size([3, 2, 2])\n"
     ]
    }
   ],
   "source": [
    "import torch\n",
    "x = torch.tensor([[1.0, 2.0], [3.0, 4.0], [5.0, 6.0]])\n",
    "y = torch.tensor([[1.0, 1.0], [0.0, 1.0], [1.0, 1.0]])\n",
    "\n",
    "stacked_axis0_result = torch.stack([x,y], axis=0)\n",
    "stacked_axis1_result = torch.stack([x,y], axis=1)\n",
    "\n",
    "print(stacked_axis0_result)\n",
    "print(stacked_axis0_result.shape)\n",
    "    \n",
    "print(stacked_axis1_result)\n",
    "print(stacked_axis1_result.shape)"
   ]
  },
  {
   "cell_type": "markdown",
   "metadata": {},
   "source": [
    "\n",
    "\n"
   ]
  },
  {
   "cell_type": "markdown",
   "metadata": {
    "collapsed": true
   },
   "source": [
    " "
   ]
  },
  {
   "cell_type": "code",
   "execution_count": null,
   "metadata": {},
   "outputs": [],
   "source": []
  }
 ],
 "metadata": {
  "kernelspec": {
   "display_name": "Python 3",
   "language": "python",
   "name": "python3"
  },
  "language_info": {
   "codemirror_mode": {
    "name": "ipython",
    "version": 3
   },
   "file_extension": ".py",
   "mimetype": "text/x-python",
   "name": "python",
   "nbconvert_exporter": "python",
   "pygments_lexer": "ipython3",
   "version": "3.8.5"
  }
 },
 "nbformat": 4,
 "nbformat_minor": 2
}

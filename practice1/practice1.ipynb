{
 "cells": [
  {
   "cell_type": "markdown",
   "metadata": {},
   "source": [
    "# 將資料做Z-score normalization "
   ]
  },
  {
   "cell_type": "code",
   "execution_count": 11,
   "metadata": {},
   "outputs": [
    {
     "name": "stdout",
     "output_type": "stream",
     "text": [
      "torch.Size([100, 2])\n",
      "tensor([[27., 56.],\n",
      "        [43., 50.],\n",
      "        [51., 91.],\n",
      "        [80., 91.],\n",
      "        [50., 86.],\n",
      "        [51., 88.],\n",
      "        [88., 90.],\n",
      "        [51., 90.],\n",
      "        [91., 60.],\n",
      "        [16., 44.],\n",
      "        [15., 18.],\n",
      "        [82., 94.],\n",
      "        [96., 33.],\n",
      "        [47., 44.],\n",
      "        [93., 23.],\n",
      "        [56., 11.],\n",
      "        [25., 48.],\n",
      "        [94., 86.],\n",
      "        [88., 72.],\n",
      "        [25., 78.],\n",
      "        [55., 90.],\n",
      "        [19., 24.],\n",
      "        [27., 49.],\n",
      "        [36., 67.],\n",
      "        [23., 77.],\n",
      "        [30., 90.],\n",
      "        [21., 32.],\n",
      "        [32., 92.],\n",
      "        [44., 10.],\n",
      "        [23., 41.],\n",
      "        [26., 68.],\n",
      "        [20., 43.],\n",
      "        [17., 95.],\n",
      "        [34., 16.],\n",
      "        [57., 26.],\n",
      "        [45., 27.],\n",
      "        [34., 17.],\n",
      "        [32., 98.],\n",
      "        [63., 18.],\n",
      "        [39., 23.],\n",
      "        [75., 61.],\n",
      "        [72., 43.],\n",
      "        [77., 21.],\n",
      "        [27., 85.],\n",
      "        [81., 10.],\n",
      "        [19., 29.],\n",
      "        [85., 15.],\n",
      "        [45., 75.],\n",
      "        [47., 65.],\n",
      "        [60., 59.],\n",
      "        [39., 84.],\n",
      "        [32., 43.],\n",
      "        [61., 52.],\n",
      "        [90., 31.],\n",
      "        [63., 71.],\n",
      "        [14., 49.],\n",
      "        [33., 69.],\n",
      "        [22., 44.],\n",
      "        [92., 55.],\n",
      "        [90., 90.],\n",
      "        [52., 74.],\n",
      "        [18., 69.],\n",
      "        [36., 47.],\n",
      "        [43., 47.],\n",
      "        [61., 70.],\n",
      "        [34., 95.],\n",
      "        [86., 47.],\n",
      "        [11., 74.],\n",
      "        [48., 55.],\n",
      "        [77., 76.],\n",
      "        [43., 52.],\n",
      "        [52., 77.],\n",
      "        [67., 95.],\n",
      "        [58., 59.],\n",
      "        [11., 26.],\n",
      "        [62., 69.],\n",
      "        [72., 13.],\n",
      "        [57., 64.],\n",
      "        [71., 24.],\n",
      "        [19., 69.],\n",
      "        [48., 20.],\n",
      "        [25., 67.],\n",
      "        [55., 37.],\n",
      "        [48., 37.],\n",
      "        [83., 28.],\n",
      "        [42., 97.],\n",
      "        [35., 19.],\n",
      "        [19., 43.],\n",
      "        [10., 21.],\n",
      "        [36., 39.],\n",
      "        [25., 90.],\n",
      "        [64., 99.],\n",
      "        [75., 81.],\n",
      "        [49., 98.],\n",
      "        [39., 73.],\n",
      "        [25., 87.],\n",
      "        [70., 60.],\n",
      "        [69., 73.],\n",
      "        [61., 91.],\n",
      "        [60., 72.]])\n"
     ]
    }
   ],
   "source": [
    "import torch\n",
    "import matplotlib.pyplot as plt\n",
    "\n",
    "rand_data = torch.randint(10,100,(100,2)).float()\n",
    "print(rand_data.shape)\n",
    "print(rand_data)"
   ]
  },
  {
   "cell_type": "code",
   "execution_count": 12,
   "metadata": {},
   "outputs": [
    {
     "data": {
      "text/plain": [
       "[<matplotlib.lines.Line2D at 0x13faf736790>]"
      ]
     },
     "execution_count": 12,
     "metadata": {},
     "output_type": "execute_result"
    },
    {
     "data": {
      "image/png": "[encoded data removed]",
      "text/plain": [
       "<Figure size 432x288 with 1 Axes>"
      ]
     },
     "metadata": {
      "needs_background": "light"
     },
     "output_type": "display_data"
    }
   ],
   "source": [
    "plt.figure()\n",
    "plt.plot(rand_data[:, 0].numpy(),rand_data[:, 1].numpy(),\"y*\")"
   ]
  },
  {
   "cell_type": "code",
   "execution_count": 18,
   "metadata": {},
   "outputs": [
    {
     "data": {
      "text/plain": [
       "[<matplotlib.lines.Line2D at 0x13faf921d60>]"
      ]
     },
     "execution_count": 18,
     "metadata": {},
     "output_type": "execute_result"
    },
    {
     "data": {
      "image/png": "[encoded data removed]",
      "text/plain": [
       "<Figure size 432x288 with 1 Axes>"
      ]
     },
     "metadata": {
      "needs_background": "light"
     },
     "output_type": "display_data"
    }
   ],
   "source": [
    "#將rand_data做Z-score normalization\n",
    "\n",
    "#顯示圖片"
   ]
  },
  {
   "cell_type": "markdown",
   "metadata": {},
   "source": [
    "# 計算兩個向量曼哈頓距離"
   ]
  },
  {
   "cell_type": "code",
   "execution_count": 27,
   "metadata": {},
   "outputs": [
    {
     "name": "stdout",
     "output_type": "stream",
     "text": [
      "manhattan_dist is: 5.0\n"
     ]
    }
   ],
   "source": [
    "import torch\n",
    "vector1 =  torch.Tensor([1,6,3])\n",
    "vector2 = torch.Tensor([2,4,5])\n",
    "\n",
    "# 計算兩個向量曼哈頓距離\n",
    "\n",
    "print('manhattan_dist is: {}'.format(manhattan_dist))"
   ]
  },
  {
   "cell_type": "markdown",
   "metadata": {},
   "source": [
    "# 寫一個one-hot函數來產生one-hot編碼"
   ]
  },
  {
   "cell_type": "code",
   "execution_count": 31,
   "metadata": {},
   "outputs": [
    {
     "name": "stdout",
     "output_type": "stream",
     "text": [
      "tensor([0., 0., 1.])\n",
      "tensor([1., 0., 0., 0., 0., 0., 0., 0., 0., 0.])\n",
      "tensor([0., 0., 0., 1., 0., 0., 0., 0., 0., 0.])\n"
     ]
    }
   ],
   "source": [
    "import torch\n",
    "def one_hot(num, totol_length):\n",
    "    #完成one_hot編碼函數\n",
    "\n",
    "\n",
    "\n",
    "print(one_hot(2,3))\n",
    "print(one_hot(0,10))\n",
    "print(one_hot(3,10))"
   ]
  },
  {
   "cell_type": "markdown",
   "metadata": {},
   "source": [
    "# 優化以下函數(假設x, y ,z 初始值均為1, learning_rate = 0.1)  \n",
    "$$\n",
    "f = x^2+y^2+z^2+ 2x+4y-6z\n",
    "$$"
   ]
  },
  {
   "cell_type": "code",
   "execution_count": 25,
   "metadata": {},
   "outputs": [
    {
     "name": "stdout",
     "output_type": "stream",
     "text": [
      "when x=[-0.9999999], y=[-1.9999998], z=[2.9999995],  f have min value [-13.999999]\n"
     ]
    }
   ],
   "source": [
    "import torch\n",
    "learning_rate = 0.1\n",
    "x = torch.ones((1,), requires_grad=True)\n",
    "y = torch.ones((1,), requires_grad=True)\n",
    "z = torch.ones((1,), requires_grad=True)\n",
    "\n",
    "\n",
    "## 優化以上函數(假設x, y ,z 初始值均為1, learning_rate = 0.1)\n",
    "\n",
    "print('when x={}, y={}, z={},  f have min value {}'.format(x.detach().numpy(), y.detach().numpy(), z.detach().numpy(), f.detach().numpy()))"
   ]
  },
  {
   "cell_type": "code",
   "execution_count": null,
   "metadata": {},
   "outputs": [],
   "source": []
  },
  {
   "cell_type": "code",
   "execution_count": null,
   "metadata": {},
   "outputs": [],
   "source": []
  },
  {
   "cell_type": "code",
   "execution_count": null,
   "metadata": {},
   "outputs": [],
   "source": []
  }
 ],
 "metadata": {
  "kernelspec": {
   "display_name": "Python 3",
   "language": "python",
   "name": "python3"
  },
  "language_info": {
   "codemirror_mode": {
    "name": "ipython",
    "version": 3
   },
   "file_extension": ".py",
   "mimetype": "text/x-python",
   "name": "python",
   "nbconvert_exporter": "python",
   "pygments_lexer": "ipython3",
   "version": "3.8.5"
  }
 },
 "nbformat": 4,
 "nbformat_minor": 4
}

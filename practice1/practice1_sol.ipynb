{
 "cells": [
  {
   "cell_type": "markdown",
   "metadata": {},
   "source": [
    "# 將資料做Z-score normalization "
   ]
  },
  {
   "cell_type": "code",
   "execution_count": null,
   "metadata": {},
   "outputs": [],
   "source": [
    "import torch\n",
    "import matplotlib.pyplot as plt\n",
    "# pytorch -> 跟 numpy 指令一樣\n",
    "rand_data = torch.randint(10,100,(100,2)).float()\n",
    "print(rand_data.shape)\n",
    "print(rand_data)"
   ]
  },
  {
   "cell_type": "code",
   "execution_count": null,
   "metadata": {},
   "outputs": [],
   "source": [
    "plt.figure()\n",
    "plt.plot(rand_data[:, 0].numpy(),rand_data[:, 1].numpy(),\"y*\") # y is yellow color\n",
    "# rand_data[:, 0] , 矩陣第1位置是Data 總數，矩陣第2位置 0 表示第1欄 ，當x，矩陣第2位置1  當y"
   ]
  },
  {
   "cell_type": "code",
   "execution_count": null,
   "metadata": {},
   "outputs": [],
   "source": [
    "# pytorch 跟 numpy 一 樣，容易做矩陣運算\n",
    "#將rand_data做Z-score normalization  = (X -平均值)/標準差\n",
    "norm_data = (rand_data - rand_data.mean(dim=0)) / rand_data.std(dim=0)\n",
    "print(norm_data )\n",
    "plt.figure()\n",
    "plt.plot(norm_data[:, 0].numpy(), norm_data[:, 1].numpy(),\"r.\")"
   ]
  },
  {
   "cell_type": "markdown",
   "metadata": {},
   "source": [
    "# 計算兩個向量曼哈頓距離"
   ]
  },
  {
   "cell_type": "code",
   "execution_count": null,
   "metadata": {},
   "outputs": [],
   "source": [
    "# 曼哈頓距離 : d(x,y)=|x1-x2|+|y1-y2|\n",
    "import torch\n",
    "vector1 =  torch.Tensor([1,6,3])\n",
    "vector2 = torch.Tensor([2,4,5])\n",
    "\n",
    "diff = vector1 - vector2\n",
    "print(diff)\n",
    "abs_tensor = torch.abs(diff)\n",
    "print(abs_tensor)\n",
    "manhattan_dist = torch.sum(abs_tensor)\n",
    "\n",
    "print('manhattan_dist is: {}'.format(manhattan_dist))"
   ]
  },
  {
   "cell_type": "markdown",
   "metadata": {},
   "source": [
    "# 寫一個one-hot函數來產生one-hot編碼"
   ]
  },
  {
   "cell_type": "code",
   "execution_count": 2,
   "metadata": {},
   "outputs": [
    {
     "name": "stdout",
     "output_type": "stream",
     "text": [
      "tensor([0., 0., 1.])\n",
      "tensor([1., 0., 0., 0., 0., 0., 0., 0., 0., 0.])\n",
      "tensor([0., 0., 0., 1., 0., 0., 0., 0., 0., 0.])\n"
     ]
    }
   ],
   "source": [
    "import torch\n",
    "def one_hot(num, totol_length):\n",
    "    return torch.eye(totol_length)[num]\n",
    "\n",
    "print(one_hot(2,3))\n",
    "print(one_hot(0,10))\n",
    "print(one_hot(3,10))"
   ]
  },
  {
   "cell_type": "code",
   "execution_count": 3,
   "metadata": {},
   "outputs": [
    {
     "name": "stdout",
     "output_type": "stream",
     "text": [
      "tensor([[1., 0., 0.],\n",
      "        [0., 1., 0.],\n",
      "        [0., 0., 1.]])\n",
      "====================\n",
      "tensor([1., 0., 0.])\n",
      "====================\n",
      "tensor([0., 1., 0.])\n",
      "====================\n",
      "tensor([0., 0., 1.])\n"
     ]
    }
   ],
   "source": [
    "print(torch.eye(3))\n",
    "print('====================')\n",
    "print(torch.eye(3)[0])\n",
    "print('====================')\n",
    "print(torch.eye(3)[1])\n",
    "print('====================')\n",
    "print(torch.eye(3)[2])"
   ]
  },
  {
   "cell_type": "markdown",
   "metadata": {},
   "source": [
    "# 優化以下函數(假設x, y ,z 初始值均為1, learning_rate = 0.1)  \n",
    "$$\n",
    "f = x^2+y^2+z^2+ 2x+4y-6z\n",
    "$$"
   ]
  },
  {
   "cell_type": "code",
   "execution_count": null,
   "metadata": {},
   "outputs": [],
   "source": [
    "import torch\n",
    "learning_rate = 0.1\n",
    "x = torch.ones((1,), requires_grad=True)\n",
    "y = torch.ones((1,), requires_grad=True)\n",
    "z = torch.ones((1,), requires_grad=True)\n",
    "\n",
    "\n",
    "optimizer = torch.optim.SGD([x, y, z], lr=learning_rate)\n",
    "\n",
    "\n",
    "for i in range(100):\n",
    "    f = x*x + y*y+ z*z + 2*x+ 4*y - 6*z\n",
    "    optimizer.zero_grad()\n",
    "    f.backward()\n",
    "    optimizer.step()\n",
    "\n",
    "print('when x={}, y={}, z={},  f have min value {}'.format(x.detach().numpy(), y.detach().numpy(), z.detach().numpy(), f.detach().numpy()))"
   ]
  }
 ],
 "metadata": {
  "kernelspec": {
   "display_name": "Python 3 (ipykernel)",
   "language": "python",
   "name": "python3"
  },
  "language_info": {
   "codemirror_mode": {
    "name": "ipython",
    "version": 3
   },
   "file_extension": ".py",
   "mimetype": "text/x-python",
   "name": "python",
   "nbconvert_exporter": "python",
   "pygments_lexer": "ipython3",
   "version": "3.8.13"
  }
 },
 "nbformat": 4,
 "nbformat_minor": 4
}

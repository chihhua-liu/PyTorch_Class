{
 "cells": [
  {
   "cell_type": "markdown",
   "metadata": {},
   "source": [
    "### Skip-Gram"
   ]
  },
  {
   "cell_type": "code",
   "execution_count": 1,
   "metadata": {},
   "outputs": [],
   "source": [
    "import torch\n",
    "import numpy as np\n",
    "import torch.nn as nn\n",
    "import torch.optim as optim\n",
    "import matplotlib.pyplot as plt\n",
    "import torch.utils.data as Data\n",
    "\n",
    "dtype = torch.FloatTensor\n",
    "device = torch.device(\"cuda\" if torch.cuda.is_available() else \"cpu\")"
   ]
  },
  {
   "cell_type": "code",
   "execution_count": 2,
   "metadata": {},
   "outputs": [
    {
     "name": "stdout",
     "output_type": "stream",
     "text": [
      "Data size 193\n",
      "['5', '2', '4', '8', '6', '2', '3', '6', '4', '4', '8', '5', '6', '9', '5', '5', '6', '1', '1', '5']\n"
     ]
    }
   ],
   "source": [
    "# read data set\n",
    "\n",
    "print('Data size %d' % len(word_sequence))\n",
    "print(word_sequence[:20])"
   ]
  },
  {
   "cell_type": "code",
   "execution_count": 3,
   "metadata": {},
   "outputs": [
    {
     "name": "stdout",
     "output_type": "stream",
     "text": [
      "['8', 't', 'n', 'h', 'r', '9', '4', 'i', 'p', 's', 'f', '6', 'j', 'o', '7', '5', 'a', 'k', '0', '2', '1', 'e', 'y', 'd', 'l', 'g', 'u', 'q', 'w', '3']\n"
     ]
    }
   ],
   "source": [
    "# calculate vocab\n",
    "\n",
    "print(vocab)"
   ]
  },
  {
   "cell_type": "code",
   "execution_count": 4,
   "metadata": {},
   "outputs": [],
   "source": [
    "word2idx = {w: i for i, w in enumerate(vocab)}  \n",
    "idx2word = {v: k for k, v in word2idx.items()}\n",
    "#print(word2idx)\n",
    "#print(idx2word)"
   ]
  },
  {
   "cell_type": "code",
   "execution_count": 5,
   "metadata": {},
   "outputs": [
    {
     "name": "stdout",
     "output_type": "stream",
     "text": [
      "[[6, 15], [6, 19], [6, 0], [6, 11], [0, 19], [0, 6], [0, 11], [0, 19], [11, 6], [11, 0], [11, 19], [11, 29], [19, 0], [19, 11], [19, 29], [19, 11], [29, 11], [29, 19], [29, 11], [29, 6], [11, 19], [11, 29], [11, 6], [11, 6], [6, 29], [6, 11], [6, 6], [6, 0], [6, 11], [6, 6], [6, 0], [6, 15], [0, 6], [0, 6], [0, 15], [0, 11], [15, 6], [15, 0], [15, 11], [15, 5], [11, 0], [11, 15], [11, 5], [11, 15], [5, 15], [5, 11], [5, 15], [5, 15], [15, 11], [15, 5], [15, 15], [15, 11], [15, 5], [15, 15], [15, 11], [15, 20], [11, 15], [11, 15], [11, 20], [11, 20], [20, 15], [20, 11], [20, 20], [20, 15], [20, 11], [20, 20], [20, 15], [20, 19], [15, 20], [15, 20], [15, 19], [15, 29], [19, 20], [19, 15], [19, 29], [19, 29], [29, 15], [29, 19], [29, 29], [29, 0], [29, 19], [29, 29], [29, 0], [29, 29], [0, 29], [0, 29], [0, 29], [0, 11], [29, 29], [29, 0], [29, 11], [29, 5], [11, 0], [11, 29], [11, 5], [11, 11], [5, 29], [5, 11], [5, 11], [5, 0], [11, 11], [11, 5], [11, 0], [11, 14], [0, 5], [0, 11], [0, 14], [0, 6], [14, 11], [14, 0], [14, 6], [14, 11], [6, 0], [6, 14], [6, 11], [6, 29], [11, 14], [11, 6], [11, 29], [11, 0], [29, 6], [29, 11], [29, 0], [29, 5], [0, 11], [0, 29], [0, 5], [0, 5], [5, 29], [5, 0], [5, 5], [5, 11], [5, 0], [5, 5], [5, 11], [5, 20], [11, 5], [11, 5], [11, 20], [11, 6], [20, 5], [20, 11], [20, 6], [20, 29], [6, 11], [6, 20], [6, 29], [6, 6], [29, 20], [29, 6], [29, 6], [29, 20], [6, 6], [6, 29], [6, 20], [6, 18], [20, 29], [20, 6], [20, 18], [20, 19], [18, 6], [18, 20], [18, 19], [18, 18], [19, 20], [19, 18], [19, 18], [19, 19], [18, 18], [18, 19], [18, 19], [18, 20], [19, 19], [19, 18], [19, 20], [19, 29], [20, 18], [20, 19], [20, 29], [20, 29], [29, 19], [29, 20], [29, 29], [29, 29], [29, 20], [29, 29], [29, 29], [29, 29], [29, 29], [29, 29], [29, 29], [29, 29], [29, 29], [29, 29], [29, 29], [29, 5], [29, 29], [29, 29], [29, 5], [29, 29], [5, 29], [5, 29], [5, 29], [5, 29], [29, 29], [29, 5], [29, 29], [29, 18], [29, 5], [29, 29], [29, 18], [29, 20], [18, 29], [18, 29], [18, 20], [18, 6], [20, 29], [20, 18], [20, 6], [20, 14], [6, 18], [6, 20], [6, 14], [6, 0], [14, 20], [14, 6], [14, 0], [14, 5], [0, 6], [0, 14], [0, 5], [0, 5], [5, 14], [5, 0], [5, 5], [5, 0], [5, 0], [5, 5], [5, 0], [5, 15], [0, 5], [0, 5], [0, 15], [0, 11], [15, 5], [15, 0], [15, 11], [15, 14], [11, 0], [11, 15], [11, 14], [11, 20], [14, 15], [14, 11], [14, 20], [14, 19], [20, 11], [20, 14], [20, 19], [20, 29], [19, 14], [19, 20], [19, 29], [19, 18], [29, 20], [29, 19], [29, 18], [29, 20], [18, 19], [18, 29], [18, 20], [18, 18], [20, 29], [20, 18], [20, 18], [20, 16], [18, 18], [18, 20], [18, 16], [18, 1], [16, 20], [16, 18], [16, 1], [16, 25], [1, 18], [1, 16], [1, 25], [1, 27], [25, 16], [25, 1], [25, 27], [25, 21], [27, 1], [27, 25], [27, 21], [27, 3], [21, 25], [21, 27], [21, 3], [21, 5], [3, 27], [3, 21], [3, 5], [3, 26], [5, 21], [5, 3], [5, 26], [5, 10], [26, 3], [26, 5], [26, 10], [26, 21], [10, 5], [10, 26], [10, 21], [10, 27], [21, 26], [21, 10], [21, 27], [21, 22], [27, 10], [27, 21], [27, 22], [27, 26], [22, 21], [22, 27], [22, 26], [22, 13], [26, 27], [26, 22], [26, 13], [26, 7], [13, 22], [13, 26], [13, 7], [13, 8], [7, 26], [7, 13], [7, 8], [7, 9], [8, 13], [8, 7], [8, 9], [8, 27], [9, 7], [9, 8], [9, 27], [9, 13], [27, 8], [27, 9], [27, 13], [27, 5], [13, 9], [13, 27], [13, 5], [13, 8], [5, 27], [5, 13], [5, 8], [5, 24], [8, 13], [8, 5], [8, 24], [8, 17], [24, 5], [24, 8], [24, 17], [24, 12], [17, 8], [17, 24], [17, 12], [17, 13], [12, 24], [12, 17], [12, 13], [12, 17], [13, 17], [13, 12], [13, 17], [13, 17], [17, 12], [17, 13], [17, 17], [17, 13], [17, 13], [17, 17], [17, 13], [17, 8], [13, 17], [13, 17], [13, 8], [13, 3], [8, 17], [8, 13], [8, 3], [8, 25], [3, 13], [3, 8], [3, 25], [3, 22], [25, 8], [25, 3], [25, 22], [25, 7], [22, 3], [22, 25], [22, 7], [22, 26], [7, 25], [7, 22], [7, 26], [7, 1], [26, 22], [26, 7], [26, 1], [26, 1], [1, 7], [1, 26], [1, 1], [1, 16], [1, 26], [1, 1], [1, 16], [1, 21], [16, 1], [16, 1], [16, 21], [16, 27], [21, 1], [21, 16], [21, 27], [21, 7], [27, 16], [27, 21], [27, 7], [27, 17], [7, 21], [7, 27], [7, 17], [7, 23], [17, 27], [17, 7], [17, 23], [17, 27], [23, 7], [23, 17], [23, 27], [23, 4], [27, 17], [27, 23], [27, 4], [27, 21], [4, 23], [4, 27], [4, 21], [4, 5], [21, 27], [21, 4], [21, 5], [21, 21], [5, 4], [5, 21], [5, 21], [5, 16], [21, 21], [21, 5], [21, 16], [21, 23], [16, 5], [16, 21], [16, 23], [16, 13], [23, 21], [23, 16], [23, 13], [23, 8], [13, 16], [13, 23], [13, 8], [13, 23], [8, 23], [8, 13], [8, 23], [8, 25], [23, 13], [23, 8], [23, 25], [23, 5], [25, 8], [25, 23], [25, 5], [25, 9], [5, 23], [5, 25], [5, 9], [5, 16], [9, 25], [9, 5], [9, 16], [9, 10], [16, 5], [16, 9], [16, 10], [16, 25], [10, 9], [10, 16], [10, 25], [10, 16], [25, 16], [25, 10], [25, 16], [25, 7], [16, 10], [16, 25], [16, 7], [16, 26], [7, 25], [7, 16], [7, 26], [7, 22], [26, 16], [26, 7], [26, 22], [26, 25], [22, 7], [22, 26], [22, 25], [22, 3], [25, 26], [25, 22], [25, 3], [25, 17], [3, 22], [3, 25], [3, 17], [3, 24], [17, 25], [17, 3], [17, 24], [17, 16], [24, 3], [24, 17], [24, 16], [24, 9], [16, 17], [16, 24], [16, 9], [16, 28], [9, 24], [9, 16], [9, 28], [9, 13], [28, 16], [28, 9], [28, 13], [28, 24], [13, 9], [13, 28], [13, 24], [13, 26], [24, 28], [24, 13], [24, 26], [24, 22], [26, 13], [26, 24], [26, 22], [26, 16], [22, 24], [22, 26], [22, 16], [22, 13], [16, 26], [16, 22], [16, 13], [16, 25], [13, 22], [13, 16], [13, 25], [13, 10], [25, 16], [25, 13], [25, 10], [25, 9], [10, 13], [10, 25], [10, 9], [10, 13], [9, 25], [9, 10], [9, 13], [9, 8], [13, 10], [13, 9], [13, 8], [13, 7], [8, 9], [8, 13], [8, 7], [8, 26], [7, 13], [7, 8], [7, 26], [7, 22], [26, 8], [26, 7], [26, 22], [26, 25], [22, 7], [22, 26], [22, 25], [22, 23], [25, 26], [25, 22], [25, 23], [25, 16], [23, 22], [23, 25], [23, 16], [23, 9], [16, 25], [16, 23], [16, 9], [16, 12], [9, 23], [9, 16], [9, 12], [9, 23], [12, 16], [12, 9], [12, 23], [12, 24], [23, 9], [23, 12], [23, 24], [23, 26], [24, 12], [24, 23], [24, 26], [24, 17], [26, 23], [26, 24], [26, 17], [26, 7], [17, 24], [17, 26], [17, 7], [17, 24], [7, 26], [7, 17], [7, 24], [7, 13], [24, 17], [24, 7], [24, 13], [24, 5], [13, 7], [13, 24], [13, 5], [13, 24], [5, 24], [5, 13], [5, 24], [5, 12], [24, 13], [24, 5], [24, 12], [24, 9], [12, 5], [12, 24], [12, 9], [12, 22], [9, 24], [9, 12], [9, 22], [9, 25], [22, 12], [22, 9], [22, 25], [22, 7], [25, 9], [25, 22], [25, 7], [25, 9], [7, 22], [7, 25], [7, 9], [7, 3], [9, 25], [9, 7], [9, 3], [9, 17], [3, 7], [3, 9], [3, 17], [3, 12], [17, 9], [17, 3], [17, 12], [17, 24], [12, 3], [12, 17], [12, 24], [12, 10], [24, 17], [24, 12], [24, 10], [24, 4], [10, 12], [10, 24], [10, 4], [10, 10], [4, 24], [4, 10], [4, 10], [4, 7], [10, 10], [10, 4], [10, 7], [10, 13], [7, 4], [7, 10], [7, 13], [7, 3], [13, 10], [13, 7], [13, 3], [13, 2], [3, 7], [3, 13], [3, 2], [3, 5], [2, 13], [2, 3], [2, 5], [2, 5], [5, 3], [5, 2], [5, 5], [5, 23], [5, 2], [5, 5], [5, 23], [5, 5], [23, 5], [23, 5], [23, 5], [23, 10], [5, 5], [5, 23], [5, 10], [5, 16], [10, 23], [10, 5], [10, 16], [10, 5]]\n"
     ]
    }
   ],
   "source": [
    "batch_size = 32\n",
    "embedding_size = 2  \n",
    "C = 2  \n",
    "voc_size = len(vocab)\n",
    "\n",
    "skip_grams = []\n",
    "# generate skip_gram\n",
    "\n",
    "\n",
    "\n",
    "print(skip_grams)"
   ]
  },
  {
   "cell_type": "code",
   "execution_count": 6,
   "metadata": {},
   "outputs": [
    {
     "name": "stdout",
     "output_type": "stream",
     "text": [
      "tensor([[0., 0., 0., 0., 0., 0., 1., 0., 0., 0., 0., 0., 0., 0., 0., 0., 0., 0.,\n",
      "         0., 0., 0., 0., 0., 0., 0., 0., 0., 0., 0., 0.],\n",
      "        [0., 0., 0., 0., 0., 0., 1., 0., 0., 0., 0., 0., 0., 0., 0., 0., 0., 0.,\n",
      "         0., 0., 0., 0., 0., 0., 0., 0., 0., 0., 0., 0.],\n",
      "        [0., 0., 0., 0., 0., 0., 1., 0., 0., 0., 0., 0., 0., 0., 0., 0., 0., 0.,\n",
      "         0., 0., 0., 0., 0., 0., 0., 0., 0., 0., 0., 0.],\n",
      "        [0., 0., 0., 0., 0., 0., 1., 0., 0., 0., 0., 0., 0., 0., 0., 0., 0., 0.,\n",
      "         0., 0., 0., 0., 0., 0., 0., 0., 0., 0., 0., 0.],\n",
      "        [1., 0., 0., 0., 0., 0., 0., 0., 0., 0., 0., 0., 0., 0., 0., 0., 0., 0.,\n",
      "         0., 0., 0., 0., 0., 0., 0., 0., 0., 0., 0., 0.]])\n",
      "tensor([15, 19,  0, 11, 19])\n"
     ]
    }
   ],
   "source": [
    "def make_data(skip_grams):\n",
    "    input_data = []\n",
    "    output_data = []\n",
    "    for i in range(len(skip_grams)):\n",
    "        \n",
    "        input_data.append(np.eye(voc_size)[skip_grams[i][0]])\n",
    "        output_data.append(skip_grams[i][1])\n",
    "    return input_data, output_data\n",
    "\n",
    "input_data, output_data = make_data(skip_grams)\n",
    "input_data, output_data = torch.Tensor(input_data), torch.LongTensor(output_data)\n",
    "print(input_data[:5])\n",
    "print(output_data[:5])"
   ]
  },
  {
   "cell_type": "code",
   "execution_count": 7,
   "metadata": {},
   "outputs": [],
   "source": [
    "dataset = Data.TensorDataset(input_data, output_data)\n",
    "loader = Data.DataLoader(dataset, batch_size, True)"
   ]
  },
  {
   "cell_type": "code",
   "execution_count": 8,
   "metadata": {},
   "outputs": [
    {
     "name": "stdout",
     "output_type": "stream",
     "text": [
      "1000 0 2.6099419593811035\n",
      "1000 1 2.558724880218506\n",
      "1000 2 2.5221643447875977\n",
      "1000 3 2.5988550186157227\n",
      "1000 4 2.8225719928741455\n",
      "1000 5 2.612534761428833\n",
      "1000 6 2.717904567718506\n",
      "1000 7 2.8879430294036865\n",
      "1000 8 2.8232696056365967\n",
      "1000 9 2.708630323410034\n",
      "1000 10 2.4570724964141846\n",
      "1000 11 2.6780178546905518\n",
      "1000 12 2.6097357273101807\n",
      "1000 13 2.662722587585449\n",
      "1000 14 2.4940781593322754\n",
      "1000 15 2.7215383052825928\n",
      "1000 16 2.539003372192383\n",
      "1000 17 2.6692564487457275\n",
      "1000 18 2.8809211254119873\n",
      "1000 19 2.7773711681365967\n",
      "1000 20 2.667980670928955\n",
      "1000 21 2.658118963241577\n",
      "1000 22 2.762990713119507\n",
      "1000 23 2.891650676727295\n",
      "2000 0 2.4550437927246094\n",
      "2000 1 2.8374335765838623\n",
      "2000 2 2.6897172927856445\n",
      "2000 3 2.517120122909546\n",
      "2000 4 2.8096261024475098\n",
      "2000 5 2.736706495285034\n",
      "2000 6 2.682335615158081\n",
      "2000 7 2.5805201530456543\n",
      "2000 8 2.576793670654297\n",
      "2000 9 2.7317326068878174\n",
      "2000 10 2.503518581390381\n",
      "2000 11 2.6246156692504883\n",
      "2000 12 2.5700628757476807\n",
      "2000 13 2.7837753295898438\n",
      "2000 14 2.3913698196411133\n",
      "2000 15 2.689911365509033\n",
      "2000 16 2.621217966079712\n",
      "2000 17 2.6265640258789062\n",
      "2000 18 2.965900182723999\n",
      "2000 19 2.7327401638031006\n",
      "2000 20 2.602928876876831\n",
      "2000 21 2.664200782775879\n",
      "2000 22 2.683969020843506\n",
      "2000 23 2.888120651245117\n"
     ]
    }
   ],
   "source": [
    "class Word2Vec(nn.Module):\n",
    "    def __init__(self):\n",
    "        super(Word2Vec, self).__init__()\n",
    "        # finish this part\n",
    "\n",
    "    def forward(self, X):\n",
    "        # finish this part\n",
    "\n",
    "        return output_layer\n",
    "\n",
    "\n",
    "model = Word2Vec().to(device)\n",
    "criterion = nn.CrossEntropyLoss().to(device)\n",
    "optimizer = optim.Adam(model.parameters(), lr=1e-3)\n",
    "\n",
    "\n",
    "for epoch in range(2000):\n",
    "    for i, (batch_x, batch_y) in enumerate(loader):\n",
    "        batch_x = batch_x.to(device)\n",
    "        batch_y = batch_y.to(device)\n",
    "        pred = model(batch_x)\n",
    "        loss = criterion(pred, batch_y)\n",
    "        if (epoch + 1) % 1000 == 0:\n",
    "            print(epoch + 1, i, loss.item())\n",
    "        optimizer.zero_grad()\n",
    "        loss.backward()\n",
    "        optimizer.step()"
   ]
  },
  {
   "cell_type": "code",
   "execution_count": 9,
   "metadata": {},
   "outputs": [
    {
     "data": {
      "image/png": "[encoded data removed]",
      "text/plain": [
       "<Figure size 432x288 with 1 Axes>"
      ]
     },
     "metadata": {
      "needs_background": "light"
     },
     "output_type": "display_data"
    }
   ],
   "source": [
    "# draw figure\n",
    "\n",
    "\n",
    "\n",
    "plt.show()"
   ]
  },
  {
   "cell_type": "code",
   "execution_count": null,
   "metadata": {},
   "outputs": [],
   "source": []
  }
 ],
 "metadata": {
  "kernelspec": {
   "display_name": "Python 3 (ipykernel)",
   "language": "python",
   "name": "python3"
  },
  "language_info": {
   "codemirror_mode": {
    "name": "ipython",
    "version": 3
   },
   "file_extension": ".py",
   "mimetype": "text/x-python",
   "name": "python",
   "nbconvert_exporter": "python",
   "pygments_lexer": "ipython3",
   "version": "3.8.13"
  }
 },
 "nbformat": 4,
 "nbformat_minor": 4
}

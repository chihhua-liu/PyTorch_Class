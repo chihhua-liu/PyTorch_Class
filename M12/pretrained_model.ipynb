{
 "cells": [
  {
   "cell_type": "markdown",
   "metadata": {},
   "source": [
    "###  module 12 : Demo 12 , Torchvision"
   ]
  },
  {
   "cell_type": "code",
   "execution_count": 1,
   "metadata": {},
   "outputs": [
    {
     "name": "stdout",
     "output_type": "stream",
     "text": [
      "['AlexNet', 'AlexNet_Weights', 'ConvNeXt', 'ConvNeXt_Base_Weights', 'ConvNeXt_Large_Weights', 'ConvNeXt_Small_Weights', 'ConvNeXt_Tiny_Weights', 'DenseNet', 'DenseNet121_Weights', 'DenseNet161_Weights', 'DenseNet169_Weights', 'DenseNet201_Weights', 'EfficientNet', 'EfficientNet_B0_Weights', 'EfficientNet_B1_Weights', 'EfficientNet_B2_Weights', 'EfficientNet_B3_Weights', 'EfficientNet_B4_Weights', 'EfficientNet_B5_Weights', 'EfficientNet_B6_Weights', 'EfficientNet_B7_Weights', 'EfficientNet_V2_L_Weights', 'EfficientNet_V2_M_Weights', 'EfficientNet_V2_S_Weights', 'GoogLeNet', 'GoogLeNetOutputs', 'GoogLeNet_Weights', 'Inception3', 'InceptionOutputs', 'Inception_V3_Weights', 'MNASNet', 'MNASNet0_5_Weights', 'MNASNet0_75_Weights', 'MNASNet1_0_Weights', 'MNASNet1_3_Weights', 'MobileNetV2', 'MobileNetV3', 'MobileNet_V2_Weights', 'MobileNet_V3_Large_Weights', 'MobileNet_V3_Small_Weights', 'RegNet', 'RegNet_X_16GF_Weights', 'RegNet_X_1_6GF_Weights', 'RegNet_X_32GF_Weights', 'RegNet_X_3_2GF_Weights', 'RegNet_X_400MF_Weights', 'RegNet_X_800MF_Weights', 'RegNet_X_8GF_Weights', 'RegNet_Y_128GF_Weights', 'RegNet_Y_16GF_Weights', 'RegNet_Y_1_6GF_Weights', 'RegNet_Y_32GF_Weights', 'RegNet_Y_3_2GF_Weights', 'RegNet_Y_400MF_Weights', 'RegNet_Y_800MF_Weights', 'RegNet_Y_8GF_Weights', 'ResNeXt101_32X8D_Weights', 'ResNeXt101_64X4D_Weights', 'ResNeXt50_32X4D_Weights', 'ResNet', 'ResNet101_Weights', 'ResNet152_Weights', 'ResNet18_Weights', 'ResNet34_Weights', 'ResNet50_Weights', 'ShuffleNetV2', 'ShuffleNet_V2_X0_5_Weights', 'ShuffleNet_V2_X1_0_Weights', 'ShuffleNet_V2_X1_5_Weights', 'ShuffleNet_V2_X2_0_Weights', 'SqueezeNet', 'SqueezeNet1_0_Weights', 'SqueezeNet1_1_Weights', 'SwinTransformer', 'Swin_B_Weights', 'Swin_S_Weights', 'Swin_T_Weights', 'VGG', 'VGG11_BN_Weights', 'VGG11_Weights', 'VGG13_BN_Weights', 'VGG13_Weights', 'VGG16_BN_Weights', 'VGG16_Weights', 'VGG19_BN_Weights', 'VGG19_Weights', 'ViT_B_16_Weights', 'ViT_B_32_Weights', 'ViT_H_14_Weights', 'ViT_L_16_Weights', 'ViT_L_32_Weights', 'VisionTransformer', 'Wide_ResNet101_2_Weights', 'Wide_ResNet50_2_Weights', '_GoogLeNetOutputs', '_InceptionOutputs', '_api', '_meta', '_utils', 'alexnet', 'convnext', 'convnext_base', 'convnext_large', 'convnext_small', 'convnext_tiny', 'densenet', 'densenet121', 'densenet161', 'densenet169', 'densenet201', 'detection', 'efficientnet', 'efficientnet_b0', 'efficientnet_b1', 'efficientnet_b2', 'efficientnet_b3', 'efficientnet_b4', 'efficientnet_b5', 'efficientnet_b6', 'efficientnet_b7', 'efficientnet_v2_l', 'efficientnet_v2_m', 'efficientnet_v2_s', 'get_weight', 'googlenet', 'inception', 'inception_v3', 'mnasnet', 'mnasnet0_5', 'mnasnet0_75', 'mnasnet1_0', 'mnasnet1_3', 'mobilenet', 'mobilenet_v2', 'mobilenet_v3_large', 'mobilenet_v3_small', 'mobilenetv2', 'mobilenetv3', 'optical_flow', 'quantization', 'regnet', 'regnet_x_16gf', 'regnet_x_1_6gf', 'regnet_x_32gf', 'regnet_x_3_2gf', 'regnet_x_400mf', 'regnet_x_800mf', 'regnet_x_8gf', 'regnet_y_128gf', 'regnet_y_16gf', 'regnet_y_1_6gf', 'regnet_y_32gf', 'regnet_y_3_2gf', 'regnet_y_400mf', 'regnet_y_800mf', 'regnet_y_8gf', 'resnet', 'resnet101', 'resnet152', 'resnet18', 'resnet34', 'resnet50', 'resnext101_32x8d', 'resnext101_64x4d', 'resnext50_32x4d', 'segmentation', 'shufflenet_v2_x0_5', 'shufflenet_v2_x1_0', 'shufflenet_v2_x1_5', 'shufflenet_v2_x2_0', 'shufflenetv2', 'squeezenet', 'squeezenet1_0', 'squeezenet1_1', 'swin_b', 'swin_s', 'swin_t', 'swin_transformer', 'vgg', 'vgg11', 'vgg11_bn', 'vgg13', 'vgg13_bn', 'vgg16', 'vgg16_bn', 'vgg19', 'vgg19_bn', 'video', 'vision_transformer', 'vit_b_16', 'vit_b_32', 'vit_h_14', 'vit_l_16', 'vit_l_32', 'wide_resnet101_2', 'wide_resnet50_2']\n"
     ]
    }
   ],
   "source": [
    "from torchvision import models, datasets, transforms,utils\n",
    "# torchvision model\n",
    "print(list(filter(lambda x:False if x.startswith(\"__\") else True, dir(models))))"
   ]
  },
  {
   "cell_type": "code",
   "execution_count": 2,
   "metadata": {},
   "outputs": [
    {
     "name": "stdout",
     "output_type": "stream",
     "text": [
      "['CIFAR10', 'CIFAR100', 'CLEVRClassification', 'Caltech101', 'Caltech256', 'CelebA', 'Cityscapes', 'CocoCaptions', 'CocoDetection', 'Country211', 'DTD', 'DatasetFolder', 'EMNIST', 'EuroSAT', 'FER2013', 'FGVCAircraft', 'FakeData', 'FashionMNIST', 'Flickr30k', 'Flickr8k', 'Flowers102', 'FlyingChairs', 'FlyingThings3D', 'Food101', 'GTSRB', 'HD1K', 'HMDB51', 'INaturalist', 'ImageFolder', 'ImageNet', 'KMNIST', 'Kinetics', 'Kinetics400', 'Kitti', 'KittiFlow', 'LFWPairs', 'LFWPeople', 'LSUN', 'LSUNClass', 'MNIST', 'Omniglot', 'OxfordIIITPet', 'PCAM', 'PhotoTour', 'Places365', 'QMNIST', 'RenderedSST2', 'SBDataset', 'SBU', 'SEMEION', 'STL10', 'SUN397', 'SVHN', 'Sintel', 'StanfordCars', 'UCF101', 'USPS', 'VOCDetection', 'VOCSegmentation', 'VisionDataset', 'WIDERFace', '_optical_flow', 'caltech', 'celeba', 'cifar', 'cityscapes', 'clevr', 'coco', 'country211', 'dtd', 'eurosat', 'fakedata', 'fer2013', 'fgvc_aircraft', 'flickr', 'flowers102', 'folder', 'food101', 'gtsrb', 'hmdb51', 'imagenet', 'inaturalist', 'kinetics', 'kitti', 'lfw', 'lsun', 'mnist', 'omniglot', 'oxford_iiit_pet', 'pcam', 'phototour', 'places365', 'rendered_sst2', 'sbd', 'sbu', 'semeion', 'stanford_cars', 'stl10', 'sun397', 'svhn', 'ucf101', 'usps', 'utils', 'video_utils', 'vision', 'voc', 'widerface']\n"
     ]
    }
   ],
   "source": [
    "# torchvision dataset\n",
    "print(list(filter(lambda x:False if x.startswith(\"__\") else True, dir(datasets))))"
   ]
  },
  {
   "cell_type": "code",
   "execution_count": 3,
   "metadata": {},
   "outputs": [
    {
     "name": "stdout",
     "output_type": "stream",
     "text": [
      "['AugMix', 'AutoAugment', 'AutoAugmentPolicy', 'CenterCrop', 'ColorJitter', 'Compose', 'ConvertImageDtype', 'FiveCrop', 'GaussianBlur', 'Grayscale', 'InterpolationMode', 'Lambda', 'LinearTransformation', 'Normalize', 'PILToTensor', 'Pad', 'RandAugment', 'RandomAdjustSharpness', 'RandomAffine', 'RandomApply', 'RandomAutocontrast', 'RandomChoice', 'RandomCrop', 'RandomEqualize', 'RandomErasing', 'RandomGrayscale', 'RandomHorizontalFlip', 'RandomInvert', 'RandomOrder', 'RandomPerspective', 'RandomPosterize', 'RandomResizedCrop', 'RandomRotation', 'RandomSolarize', 'RandomVerticalFlip', 'Resize', 'TenCrop', 'ToPILImage', 'ToTensor', 'TrivialAugmentWide', '_pil_constants', '_presets', 'autoaugment', 'functional', 'functional_pil', 'functional_tensor', 'transforms']\n"
     ]
    }
   ],
   "source": [
    "# torchvision transforms\n",
    "print(list(filter(lambda x:False if x.startswith(\"__\") else True, dir(transforms))))"
   ]
  },
  {
   "cell_type": "code",
   "execution_count": 7,
   "metadata": {},
   "outputs": [
    {
     "name": "stdout",
     "output_type": "stream",
     "text": [
      "VGG(\n",
      "  (features): Sequential(\n",
      "    (0): Conv2d(3, 64, kernel_size=(3, 3), stride=(1, 1), padding=(1, 1))\n",
      "    (1): ReLU(inplace=True)\n",
      "    (2): Conv2d(64, 64, kernel_size=(3, 3), stride=(1, 1), padding=(1, 1))\n",
      "    (3): ReLU(inplace=True)\n",
      "    (4): MaxPool2d(kernel_size=2, stride=2, padding=0, dilation=1, ceil_mode=False)\n",
      "    (5): Conv2d(64, 128, kernel_size=(3, 3), stride=(1, 1), padding=(1, 1))\n",
      "    (6): ReLU(inplace=True)\n",
      "    (7): Conv2d(128, 128, kernel_size=(3, 3), stride=(1, 1), padding=(1, 1))\n",
      "    (8): ReLU(inplace=True)\n",
      "    (9): MaxPool2d(kernel_size=2, stride=2, padding=0, dilation=1, ceil_mode=False)\n",
      "    (10): Conv2d(128, 256, kernel_size=(3, 3), stride=(1, 1), padding=(1, 1))\n",
      "    (11): ReLU(inplace=True)\n",
      "    (12): Conv2d(256, 256, kernel_size=(3, 3), stride=(1, 1), padding=(1, 1))\n",
      "    (13): ReLU(inplace=True)\n",
      "    (14): MaxPool2d(kernel_size=2, stride=2, padding=0, dilation=1, ceil_mode=False)\n",
      "    (15): Conv2d(256, 512, kernel_size=(3, 3), stride=(1, 1), padding=(1, 1))\n",
      "    (16): ReLU(inplace=True)\n",
      "    (17): Conv2d(512, 512, kernel_size=(3, 3), stride=(1, 1), padding=(1, 1))\n",
      "    (18): ReLU(inplace=True)\n",
      "    (19): MaxPool2d(kernel_size=2, stride=2, padding=0, dilation=1, ceil_mode=False)\n",
      "    (20): Conv2d(512, 512, kernel_size=(3, 3), stride=(1, 1), padding=(1, 1))\n",
      "    (21): ReLU(inplace=True)\n",
      "    (22): Conv2d(512, 512, kernel_size=(3, 3), stride=(1, 1), padding=(1, 1))\n",
      "    (23): ReLU(inplace=True)\n",
      "    (24): MaxPool2d(kernel_size=2, stride=2, padding=0, dilation=1, ceil_mode=False)\n",
      "  )\n",
      "  (avgpool): AdaptiveAvgPool2d(output_size=(7, 7))\n",
      "  (classifier): Sequential(\n",
      "    (0): Linear(in_features=25088, out_features=4096, bias=True)\n",
      "    (1): ReLU(inplace=True)\n",
      "    (2): Dropout(p=0.5, inplace=False)\n",
      "    (3): Linear(in_features=4096, out_features=4096, bias=True)\n",
      "    (4): ReLU(inplace=True)\n",
      "    (5): Dropout(p=0.5, inplace=False)\n",
      "    (6): Linear(in_features=4096, out_features=1000, bias=True)\n",
      "  )\n",
      ")\n"
     ]
    }
   ],
   "source": [
    "### pre-train model  ==================\n",
    "model = models.vgg13(pretrained=True)# (weights=VGG13_Weights.DEFAULT)# (pretrained=True)\n",
    "print(model)"
   ]
  },
  {
   "cell_type": "code",
   "execution_count": 8,
   "metadata": {},
   "outputs": [
    {
     "name": "stdout",
     "output_type": "stream",
     "text": [
      "torch.Size([1, 3, 336, 224])\n",
      "tensor([[[[1.0502, 1.0673, 1.0673,  ..., 0.9474, 0.9303, 0.9303],\n",
      "          [1.0844, 1.1187, 1.0844,  ..., 0.9474, 0.9474, 0.9303],\n",
      "          [1.2214, 1.2728, 1.2214,  ..., 0.9303, 0.9303, 0.9132],\n",
      "          ...,\n",
      "          [1.0844, 1.0673, 1.0159,  ..., 1.1700, 1.1358, 1.1700],\n",
      "          [0.9646, 0.9474, 0.9988,  ..., 0.9988, 1.1358, 1.2385],\n",
      "          [0.7591, 0.8618, 0.9303,  ..., 1.0159, 0.9988, 1.1358]],\n",
      "\n",
      "         [[1.5182, 1.5357, 1.5357,  ..., 1.4307, 1.4307, 1.4307],\n",
      "          [1.5357, 1.5707, 1.5532,  ..., 1.4307, 1.4307, 1.4307],\n",
      "          [1.6408, 1.6758, 1.6232,  ..., 1.4132, 1.4132, 1.4132],\n",
      "          ...,\n",
      "          [0.6779, 0.6078, 0.5903,  ..., 0.5903, 0.5553, 0.5903],\n",
      "          [0.5553, 0.5378, 0.5728,  ..., 0.3978, 0.5553, 0.6604],\n",
      "          [0.3627, 0.4678, 0.5028,  ..., 0.4153, 0.3803, 0.5203]],\n",
      "\n",
      "         [[1.9080, 1.9254, 1.9254,  ..., 1.8383, 1.8383, 1.8383],\n",
      "          [1.9254, 1.9428, 1.9254,  ..., 1.8557, 1.8557, 1.8383],\n",
      "          [1.9951, 2.0300, 1.9951,  ..., 1.8557, 1.8557, 1.8383],\n",
      "          ...,\n",
      "          [0.3916, 0.3219, 0.2871,  ..., 0.2348, 0.2173, 0.2696],\n",
      "          [0.3045, 0.2871, 0.2871,  ..., 0.0605, 0.2173, 0.3568],\n",
      "          [0.1128, 0.2173, 0.1999,  ..., 0.0605, 0.0431, 0.1825]]]])\n"
     ]
    }
   ],
   "source": [
    "from torchvision import transforms\n",
    "import torch\n",
    "transform = transforms.Compose([            \n",
    " transforms.Resize(224), transforms.ToTensor(),                     \n",
    " transforms.Normalize( mean=[0.485, 0.456, 0.406],std=[0.229, 0.224, 0.225] )])\n",
    "from PIL import Image\n",
    "img = Image.open(\"elephant.jpg\")\n",
    "img_t = transform(img)\n",
    "batch_t = torch.unsqueeze(img_t, 0); print(batch_t.shape); print(batch_t)"
   ]
  },
  {
   "cell_type": "code",
   "execution_count": 9,
   "metadata": {},
   "outputs": [
    {
     "name": "stdout",
     "output_type": "stream",
     "text": [
      "torch.Size([1, 1000])\n",
      "tensor([[ 4.4322e+00, -4.5222e+00,  6.0697e-01,  4.3888e-01,  9.0480e-01,\n",
      "          1.7061e+00,  7.1609e-01, -2.7063e-01, -9.3737e-01,  4.6417e+00,\n",
      "         -5.6818e+00, -4.5592e+00, -3.5168e+00, -2.6695e+00, -4.0899e+00,\n",
      "         -3.7534e+00, -3.7745e+00, -1.2608e+00, -3.0510e+00, -2.7479e+00,\n",
      "         -1.0537e+00,  3.2513e+00,  5.6095e-01,  3.3947e+00,  1.8552e+00,\n",
      "         -1.9338e+00, -2.8475e+00, -4.0272e+00, -2.4228e+00, -2.6886e+00,\n",
      "         -1.2307e+00, -3.6461e+00, -3.1081e+00,  2.7528e+00,  3.7444e+00,\n",
      "          4.0037e+00,  3.8686e+00,  7.8927e-01, -2.5831e+00,  5.2683e+00,\n",
      "         -1.4438e+00, -2.5589e+00, -2.7339e-01,  4.3886e+00,  4.2823e-01,\n",
      "         -1.0971e-01, -8.2938e-01,  2.9428e+00,  7.6862e+00,  4.8809e+00,\n",
      "          5.3230e+00,  1.4294e+01, -2.8344e+00, -2.4431e-01,  1.5874e+00,\n",
      "         -1.0047e+00, -4.1823e+00, -3.3291e+00,  9.6905e-01, -1.6279e+00,\n",
      "         -4.4504e-01, -1.8228e-01,  1.7047e+00,  1.9234e+00,  4.9292e-01,\n",
      "         -7.4117e-01,  1.0291e+00,  1.8517e+00,  1.0026e-01,  5.6905e+00,\n",
      "         -3.8427e+00, -1.7529e+00, -5.7058e+00, -4.4912e+00, -4.9335e+00,\n",
      "         -6.0969e+00, -4.0190e+00, -5.4281e+00, -1.6960e+00, -2.5734e+00,\n",
      "          1.7589e+00, -2.3368e+00,  2.2751e-01,  8.4672e-01,  4.1137e-01,\n",
      "         -1.0309e+00, -6.0108e-01,  4.0802e+00,  2.2470e+00,  2.2284e+00,\n",
      "         -3.8824e+00,  5.3171e-01, -3.3584e+00,  1.0962e+00, -5.5044e+00,\n",
      "         -6.1109e+00, -2.1617e+00, -2.2691e+00, -3.3189e+00,  3.0900e+00,\n",
      "         -4.5672e-02,  2.5014e+01,  1.1726e+00,  1.0566e+00,  1.1899e+00,\n",
      "          1.4623e-01,  2.1462e+00,  3.1923e-03, -3.0462e+00,  1.3090e+00,\n",
      "         -3.6770e-01, -8.2183e-01,  3.1816e+00, -5.1961e-01, -8.3573e-01,\n",
      "         -4.0858e+00,  3.4262e+00, -2.2485e-02, -2.9598e+00, -1.4972e+00,\n",
      "         -3.6668e+00, -2.4621e+00, -2.4586e+00, -1.3845e+00,  5.3849e-01,\n",
      "         -1.5010e+00,  3.5605e-01, -5.5222e-01,  1.2266e+00,  7.6575e-01,\n",
      "         -7.5873e-01,  3.2412e+00,  2.6819e+00,  2.1913e-02,  2.5273e+00,\n",
      "          6.2762e-02,  5.1652e-01,  4.1896e+00,  3.0121e+00, -7.3403e+00,\n",
      "         -4.6985e+00, -1.9403e+00, -3.5489e+00, -1.9395e+00,  7.6405e-01,\n",
      "          1.9192e+00,  3.1753e+00,  1.0307e+00, -1.3863e+00,  7.4369e+00,\n",
      "          1.7898e+00, -1.4643e+00, -3.9141e+00, -2.0419e+00, -1.7104e+00,\n",
      "         -2.5177e+00, -3.0943e+00, -1.7917e+00, -3.2101e+00,  2.8245e+00,\n",
      "          1.4864e+00, -5.7733e-01, -1.1252e+00,  3.3606e+00,  1.1419e+00,\n",
      "          1.8563e+00, -8.4865e-01,  5.3236e-01,  1.9800e+00,  5.6197e-02,\n",
      "          3.1854e+00,  4.7684e-01,  3.2365e+00,  1.0076e+00,  6.4387e-01,\n",
      "          2.5685e-02,  2.5749e+00,  2.0740e+00,  5.4404e+00,  2.6294e+00,\n",
      "          3.2056e+00,  3.2039e+00, -3.9580e-01,  2.1411e+00,  1.0090e+00,\n",
      "         -1.0534e-01, -5.6380e-01, -2.5138e+00, -7.6163e-01,  1.3396e+00,\n",
      "          5.9862e-01,  2.0396e+00, -5.2167e-01, -4.2673e+00, -2.7033e+00,\n",
      "          3.0355e-01, -6.0160e-01,  4.2251e+00,  8.5342e-01,  1.6970e-01,\n",
      "         -9.2651e-01, -3.9561e+00,  9.7782e-01,  1.3991e+00, -1.8058e+00,\n",
      "          3.1748e+00,  4.9630e+00,  3.1468e-01,  4.2247e+00,  3.9207e+00,\n",
      "          7.6111e-01,  2.0723e+00, -2.4041e+00, -1.8158e+00, -2.3202e-02,\n",
      "         -2.0014e+00,  5.8826e-01, -1.1778e+00, -1.9515e+00, -1.3213e+00,\n",
      "         -5.9373e-01,  1.0481e+00,  2.5900e+00, -4.6785e-01,  2.2143e+00,\n",
      "          2.4794e+00,  1.6254e+00,  2.7132e+00,  1.1204e+00,  1.2233e+00,\n",
      "         -2.2597e+00,  1.2655e-01, -5.1214e-01,  2.4735e+00,  3.1230e+00,\n",
      "          1.7654e+00,  2.9975e-01, -9.6027e-01,  1.4097e+00, -8.7736e-01,\n",
      "         -2.2499e-01,  3.3079e-02,  1.3697e+00,  4.0414e+00,  1.1711e+00,\n",
      "         -3.8191e-01,  5.2595e+00, -1.6582e+00, -1.1678e+00,  7.7284e-01,\n",
      "         -1.0600e-01, -2.3580e+00, -1.0912e+00, -1.8728e+00,  1.4566e+00,\n",
      "          2.8693e+00,  4.0645e+00,  8.3464e-01,  2.4399e-01, -1.4449e+00,\n",
      "          2.2444e-01, -1.5038e+00, -9.6043e-01, -1.7069e+00, -1.1124e+00,\n",
      "         -1.8202e+00, -8.8563e-01,  3.3188e+00,  6.4774e+00,  1.1860e+00,\n",
      "          1.4384e+00,  5.2583e-01,  1.9953e+00,  7.1221e-02, -5.2283e-01,\n",
      "         -2.7655e-01,  2.2252e+00, -6.1311e-01, -1.5144e+00, -4.0447e-02,\n",
      "          1.5813e+00, -8.8049e-01, -8.3931e-02, -1.4592e+00, -2.1159e+00,\n",
      "          7.4758e-01,  3.6804e+00, -6.7235e-01,  1.9319e-01, -2.5316e+00,\n",
      "         -2.2971e-01,  5.9192e+00,  1.3733e+00,  1.6424e+00,  3.6317e+00,\n",
      "          3.9636e+00,  3.6080e+00,  3.1968e+00,  2.6740e+00, -1.4073e-01,\n",
      "         -5.8157e+00, -6.0799e+00, -3.5773e+00, -4.4074e+00, -4.8032e+00,\n",
      "          1.0623e+00, -2.8600e+00, -3.4790e+00, -4.0148e+00, -6.9666e+00,\n",
      "         -3.4787e+00, -4.9578e+00, -3.9270e+00, -6.5353e-01, -2.3608e+00,\n",
      "         -2.6121e+00, -2.8024e+00, -5.6795e+00, -3.3194e+00, -2.1639e+00,\n",
      "         -5.5029e+00, -4.6236e+00, -1.7239e+00, -6.3434e+00, -4.7318e+00,\n",
      "         -4.5168e+00, -2.1407e+00, -1.1426e+00, -3.3748e-01, -2.0114e+00,\n",
      "         -2.9217e+00, -2.5128e+00, -2.9283e+00, -4.7999e+00,  7.0799e-01,\n",
      "         -1.9707e-01, -1.3043e+00,  2.4197e+00, -4.0370e+00,  1.4095e+00,\n",
      "          7.1077e+00,  4.7638e+00,  6.9625e+00,  1.0588e+01,  7.8602e+00,\n",
      "          6.6813e+00,  1.0810e+01,  6.4204e+00,  6.8002e+00,  6.0721e+00,\n",
      "          3.4967e+00,  5.2772e+00,  4.0694e+00,  4.3518e+00,  7.8291e+00,\n",
      "          2.6202e+00,  8.0837e-01,  5.4354e-01, -1.2892e+00, -1.9906e+00,\n",
      "          1.0627e+00, -1.2940e+00,  3.3396e-01,  6.2737e+00, -2.6109e-01,\n",
      "          1.8791e+00,  6.4891e+00,  5.3283e+00,  4.7165e-01,  2.0834e+00,\n",
      "          8.5996e-01,  3.4158e+00,  4.2800e+00,  2.4280e+00,  1.5111e+00,\n",
      "          5.7834e-01,  2.0567e+00, -3.8754e+00, -8.3309e-01,  5.3971e-01,\n",
      "         -1.4322e+00,  5.8566e-01, -1.7894e+00,  5.7170e-01, -1.2800e-01,\n",
      "          2.1846e+01,  2.5059e+01, -2.5546e+00, -8.8212e-01,  2.6934e+00,\n",
      "          3.2956e+00,  3.3329e+00, -1.6973e+00, -4.4955e+00,  5.5418e+00,\n",
      "          2.9834e+00, -3.3623e+00, -3.8193e+00, -3.3100e+00,  4.2146e+00,\n",
      "         -3.7199e-02,  1.3917e+00, -1.2121e+00, -5.0758e+00, -4.5000e+00,\n",
      "          1.9468e+00, -8.9329e-01, -1.1206e+00,  1.2346e-01, -1.3578e+00,\n",
      "          1.6608e+00, -1.5236e+00,  3.9431e-01,  2.5665e+00,  2.3346e+00,\n",
      "         -1.1416e+00, -1.9771e+00,  2.2911e+00, -4.9028e+00,  1.2466e-01,\n",
      "          3.6665e-01,  1.0350e+00,  2.9872e-01, -2.1081e+00, -1.9192e+00,\n",
      "          2.6588e+00, -1.5783e+00,  2.8386e+00,  2.1940e+00, -1.8852e-01,\n",
      "         -1.8827e+00, -1.2309e+00, -9.1799e-01,  1.7068e+00, -7.1380e-01,\n",
      "          1.5431e+00, -2.8640e+00,  1.2221e-01, -4.0567e+00, -1.7403e-01,\n",
      "         -3.0418e+00, -2.7319e+00,  1.3747e+00, -1.9689e+00,  7.0896e-01,\n",
      "          8.1069e-01, -4.0858e+00,  3.8507e+00,  7.2576e-01,  2.2523e+00,\n",
      "         -3.8431e+00,  4.3641e-01,  1.9623e+00, -2.7670e+00, -2.3358e+00,\n",
      "         -4.4385e+00,  5.2622e+00,  3.1462e+00,  5.2842e+00,  4.6870e-01,\n",
      "         -8.3728e-02,  3.3810e+00,  2.6347e+00,  3.4244e+00,  2.6796e+00,\n",
      "          3.4545e-01, -4.6979e+00, -1.5925e+00, -2.2835e+00,  2.5856e+00,\n",
      "         -2.2128e+00,  4.0944e+00,  2.1758e+00, -8.5939e-01,  7.1257e+00,\n",
      "         -1.8683e+00, -2.0892e+00, -1.1015e+00, -5.3847e-01,  1.3358e+00,\n",
      "          1.2311e+00, -3.4605e+00, -1.0092e+00,  3.5515e+00, -9.1795e-01,\n",
      "         -4.4890e+00, -7.0405e-01,  2.3405e+00, -4.9493e-01,  2.1866e+00,\n",
      "          5.8816e+00,  4.8653e+00, -6.8717e-01, -2.9445e+00,  2.8354e+00,\n",
      "         -3.2912e+00, -4.6030e+00,  1.0971e+00, -1.8773e+00,  7.0357e-01,\n",
      "          5.1665e+00,  3.5823e+00,  3.5066e+00, -2.6357e+00, -1.5587e+00,\n",
      "         -2.3575e+00,  1.9000e+00, -2.0534e+00, -5.5837e+00, -3.2064e+00,\n",
      "         -2.4512e+00, -1.5861e+00, -6.2937e-01,  2.3509e-01,  7.4971e+00,\n",
      "          5.6392e+00, -6.3585e-01, -9.6153e-01,  1.2465e+00, -1.1351e-01,\n",
      "         -2.6565e+00, -5.0900e+00,  3.0007e+00,  3.6222e+00,  4.9386e+00,\n",
      "          1.8346e+00, -4.0052e+00, -3.6190e+00, -2.1688e+00,  9.5908e-01,\n",
      "         -2.3151e+00, -9.7360e-01, -1.9948e+00, -3.8210e+00, -3.0572e+00,\n",
      "         -1.0991e+00, -4.4548e-01, -2.1312e+00,  9.2290e-01,  8.9337e-01,\n",
      "         -1.1079e+00,  1.5261e+00,  8.7784e-02,  9.0416e-01, -9.7814e-01,\n",
      "          7.0939e-01, -6.9936e-01, -5.1642e+00, -3.0348e+00, -2.6725e+00,\n",
      "         -4.2962e+00, -3.5237e+00, -8.0085e-01, -1.5915e+00, -1.1357e+00,\n",
      "         -3.0369e+00, -9.1634e-01,  8.2403e-01,  2.8765e+00, -1.6232e+00,\n",
      "          5.7632e-01, -7.0195e-01,  4.2255e+00, -4.0983e+00, -3.0109e+00,\n",
      "         -2.0333e+00,  5.6838e-01, -8.3641e-01,  4.7772e+00, -2.7548e+00,\n",
      "          2.9322e+00,  1.9832e+00,  8.2046e-01, -2.2885e+00,  6.3324e-01,\n",
      "          6.9850e-02, -2.8905e+00,  3.9877e+00, -1.5628e-01, -3.2206e-01,\n",
      "         -5.5038e-01, -2.8897e+00, -1.2127e+00, -1.4437e+00, -7.0352e-01,\n",
      "         -3.9438e-01, -1.5236e+00,  4.1277e+00,  5.9736e-01, -4.0001e-01,\n",
      "         -3.4539e+00,  7.0450e-01, -3.8378e+00,  1.6137e+00, -1.0010e-01,\n",
      "         -5.8523e-02,  5.3631e+00,  1.5544e+00, -1.8061e+00, -1.4686e+00,\n",
      "          2.6323e+00, -4.5590e-01,  8.6250e-01,  1.8133e+00, -8.1490e-02,\n",
      "         -1.1653e+00,  7.3274e-01, -2.5720e+00,  5.4847e+00,  1.9200e+00,\n",
      "          3.0608e+00,  7.8177e-01, -3.1395e-01, -2.4083e+00,  1.5415e+00,\n",
      "          4.1788e+00,  8.3784e-01, -9.0235e-01,  2.6975e-01, -9.9397e-01,\n",
      "         -2.4526e+00,  5.3257e-01, -1.0376e+00, -1.1507e+00, -1.4041e-01,\n",
      "         -2.8224e+00, -4.0150e+00, -2.1888e+00, -1.2520e+00, -5.1380e+00,\n",
      "          1.8964e+00, -2.8461e+00, -8.9825e-01, -8.2525e-01,  3.9297e+00,\n",
      "         -1.4501e+00,  2.8991e+00,  1.4735e+00,  9.6744e-01,  2.0288e+00,\n",
      "         -1.5408e+00, -4.9184e-01, -2.0111e+00,  3.8569e+00, -6.1366e-01,\n",
      "          2.2596e-01,  1.0284e+00, -3.0658e+00, -3.1432e+00,  1.0157e+01,\n",
      "          2.4882e-01, -2.3239e+00,  3.7434e+00,  1.1132e+00,  4.7590e-01,\n",
      "          3.0427e+00,  1.1410e-01, -1.0347e+00, -5.1992e-01, -1.7688e+00,\n",
      "         -1.3658e+00, -1.7243e+00, -3.3087e+00,  1.5489e+00, -3.0791e+00,\n",
      "         -8.7841e-01,  1.6013e+00, -1.9387e+00,  5.4727e-01, -1.2452e+00,\n",
      "         -6.0935e-01,  2.3723e+00,  6.6908e-01, -3.3003e+00,  4.8980e-01,\n",
      "         -2.1075e+00,  3.8300e+00,  1.2703e+00,  1.2603e+00, -2.3185e+00,\n",
      "         -1.2662e+00, -6.3994e-01,  3.5730e+00,  1.3472e-01,  2.5786e+00,\n",
      "         -4.0027e+00, -2.8391e+00, -4.6247e+00, -3.5836e+00, -1.5332e-02,\n",
      "          3.7947e+00,  1.4939e+00, -1.3906e+00,  4.4576e+00, -1.1861e+00,\n",
      "          4.0575e-01,  6.3627e-02, -2.7432e-01,  1.1203e+00,  2.8173e-01,\n",
      "         -8.9684e-01,  1.0199e+00,  7.5176e-01,  2.3830e+00, -9.4531e-01,\n",
      "         -3.5021e+00,  1.0621e+00,  9.0199e-01,  5.8152e+00, -2.5682e+00,\n",
      "         -1.5570e+00, -2.6307e+00, -3.5642e+00, -2.2899e+00, -1.5362e+00,\n",
      "          2.0283e+00,  4.3476e+00, -1.7385e+00,  1.5548e+00,  2.2140e-01,\n",
      "         -3.4224e+00,  1.0413e+00, -3.4895e+00, -2.1542e+00,  3.9344e-01,\n",
      "         -2.3167e-01, -2.3286e+00,  1.7611e+00,  3.2931e+00, -2.3020e+00,\n",
      "          4.9373e+00,  5.1707e-01, -2.4728e+00,  3.3409e+00, -1.9857e+00,\n",
      "          4.3622e+00, -2.7800e+00, -2.2540e+00,  9.7862e-01,  2.4487e+00,\n",
      "         -1.2931e+00,  4.1224e-01, -5.1659e+00,  1.3773e+00, -2.8403e-01,\n",
      "         -2.4790e+00, -2.6309e+00, -1.2636e-01, -1.9373e+00,  1.0174e+00,\n",
      "          1.2357e-01, -1.7578e+00, -3.7559e-01, -2.4085e-01, -1.0886e+00,\n",
      "          5.3014e+00,  4.0401e+00,  2.4241e-02,  1.8929e+00, -6.2553e-01,\n",
      "         -1.0165e+00, -7.2373e-01, -3.2701e+00,  6.4854e-01,  2.5668e+00,\n",
      "          1.8840e+00, -1.6835e+00, -2.9202e+00,  2.2582e+00, -1.5489e+00,\n",
      "          1.9268e+00, -1.6735e+00,  1.2752e+00, -2.9352e+00,  2.3099e+00,\n",
      "          1.2729e+00,  1.5128e-01,  1.1241e+00, -1.1791e-01, -1.1509e+00,\n",
      "          1.1262e+00, -4.0185e+00, -2.1925e+00,  1.9777e-01, -1.3145e+00,\n",
      "         -1.2447e+00, -3.7334e+00,  5.4775e+00, -1.4417e+00, -1.3537e+00,\n",
      "         -8.5909e-01,  4.3741e-01,  4.7643e+00,  2.0550e+00, -1.3724e+00,\n",
      "         -8.7248e-01,  3.2103e+00,  2.0133e+00, -1.8414e+00, -7.9064e-01,\n",
      "         -3.8375e+00,  3.1786e-01, -1.4157e+00, -3.3440e+00, -1.4885e+00,\n",
      "          3.2409e+00,  2.4612e+00,  7.8894e-01,  5.1257e+00, -2.5375e+00,\n",
      "         -5.6722e+00, -2.8382e+00,  7.7191e-01, -2.6949e-01, -3.0963e+00,\n",
      "          1.0092e+00, -1.9553e-02, -2.2693e+00,  1.2769e+00,  1.4057e-01,\n",
      "         -1.5802e+00,  1.1248e+00, -9.6275e-01, -1.1246e+00,  2.1605e+00,\n",
      "          2.1250e+00, -2.2898e+00, -1.2167e+00,  2.4745e+00, -3.4285e+00,\n",
      "          2.2704e+00, -1.0301e+00,  2.0167e+00,  5.0678e-01,  6.3696e+00,\n",
      "          4.0966e+00, -5.8888e-01,  3.3200e-01,  4.1173e-01,  1.4432e+00,\n",
      "          3.3540e+00,  3.4404e+00,  3.7632e+00,  3.3132e+00, -7.2344e-01,\n",
      "         -2.9672e+00, -1.5487e+00, -1.8544e-01, -2.1259e+00, -6.4918e-01,\n",
      "          2.9341e+00, -1.6649e+00, -3.1412e+00,  4.3057e+00, -1.3642e+00,\n",
      "         -1.1083e+00, -8.5390e-03,  1.0873e+00, -1.3233e+00, -3.2358e+00,\n",
      "         -2.1083e+00,  1.2425e+00,  1.6091e+00,  4.3472e+00, -2.9575e+00,\n",
      "         -2.2794e-01,  7.0876e-01, -1.9464e+00, -5.3694e-01,  2.7190e+00,\n",
      "         -4.0086e-01, -5.9132e-01,  1.3370e+00,  1.4730e+00, -3.2226e+00,\n",
      "         -1.4710e+00,  1.2215e+00,  1.1710e+00, -4.4718e+00,  4.0642e+00,\n",
      "          3.3798e+00, -2.6514e+00,  1.2147e+00, -7.8690e-01,  3.9418e+00,\n",
      "          1.8624e+00, -2.6745e+00, -2.0380e+00,  4.3046e+00, -1.3222e+00,\n",
      "         -5.8783e-01, -2.8942e+00, -1.1995e+00, -4.1265e-01,  3.0210e-01,\n",
      "         -2.2293e+00, -1.2467e+00, -1.1112e+00,  5.6771e-01,  1.8158e+00,\n",
      "          2.7910e+00, -2.1332e+00,  1.7706e+00,  6.5706e-01, -1.0291e+00,\n",
      "         -8.7263e-01,  4.8651e-01, -1.8607e+00, -3.8640e+00, -1.3046e+00,\n",
      "          1.5047e+00,  4.5311e+00,  5.3534e+00,  4.4275e-02, -1.7708e+00,\n",
      "          3.0786e+00,  2.0372e+00,  1.9216e+00, -1.0272e+00,  1.6267e-01,\n",
      "         -3.2167e+00,  1.0808e+00, -4.9247e+00, -4.3890e+00,  7.0805e-01,\n",
      "         -3.9896e+00, -4.7218e+00, -7.2208e+00, -3.7474e+00, -1.0396e+00,\n",
      "         -1.7780e+00, -2.6802e+00, -1.3104e+00, -4.8763e+00, -3.4514e+00,\n",
      "         -4.0225e+00,  1.9761e+00, -2.6864e-01,  1.1701e+00, -1.5585e+00,\n",
      "         -2.8960e+00, -3.4752e+00, -3.2376e+00, -2.5117e+00,  3.7890e-01,\n",
      "         -4.0018e+00, -4.1233e+00,  5.4708e+00, -1.9415e+00, -4.3148e+00,\n",
      "         -2.0331e+00, -1.9622e+00, -4.0957e+00, -2.2059e+00,  4.4403e-02,\n",
      "          1.8642e+00,  7.5062e-02, -4.1727e+00,  5.0020e+00, -3.8029e+00,\n",
      "         -5.1078e+00, -5.7167e-01, -4.8739e+00, -5.7294e+00, -3.6994e+00,\n",
      "         -2.3097e+00, -2.3215e+00, -4.2665e+00, -1.1231e+00, -4.0167e+00,\n",
      "         -1.7256e-01,  1.0116e+00,  5.1284e+00,  1.2088e+00, -8.4663e-01,\n",
      "          2.8636e+00,  3.2443e+00,  4.0552e+00,  3.4928e+00,  4.0232e+00,\n",
      "          3.4720e+00,  1.7853e+00,  5.1113e+00, -3.4693e-01,  2.7381e+00,\n",
      "         -5.6686e+00, -5.2596e+00,  1.4518e+00, -1.5313e+00, -5.7788e+00,\n",
      "         -1.4945e+00, -1.6535e-01, -1.7593e-01, -4.2290e-01, -1.5689e+00,\n",
      "          1.5908e+00,  1.6847e+00,  6.8165e-01,  1.2452e+00,  9.4182e-01]],\n",
      "       grad_fn=<AddmmBackward0>)\n"
     ]
    }
   ],
   "source": [
    "model.eval() ; out = model(batch_t) ;print(out.shape); print(out)"
   ]
  },
  {
   "cell_type": "code",
   "execution_count": 10,
   "metadata": {},
   "outputs": [
    {
     "name": "stdout",
     "output_type": "stream",
     "text": [
      "['0, tench', '1, goldfish', '2, great_white_shark', '3, tiger_shark', '4, hammerhead', '5, electric_ray', '6, stingray', '7, cock', '8, hen', '9, ostrich', '10, brambling', '11, goldfinch', '12, house_finch', '13, junco', '14, indigo_bunting', '15, robin', '16, bulbul', '17, jay', '18, magpie', '19, chickadee', '20, water_ouzel', '21, kite', '22, bald_eagle', '23, vulture', '24, great_grey_owl', '25, European_fire_salamander', '26, common_newt', '27, eft', '28, spotted_salamander', '29, axolotl', '30, bullfrog', '31, tree_frog', '32, tailed_frog', '33, loggerhead', '34, leatherback_turtle', '35, mud_turtle', '36, terrapin', '37, box_turtle', '38, banded_gecko', '39, common_iguana', '40, American_chameleon', '41, whiptail', '42, agama', '43, frilled_lizard', '44, alligator_lizard', '45, Gila_monster', '46, green_lizard', '47, African_chameleon', '48, Komodo_dragon', '49, African_crocodile', '50, American_alligator', '51, triceratops', '52, thunder_snake', '53, ringneck_snake', '54, hognose_snake', '55, green_snake', '56, king_snake', '57, garter_snake', '58, water_snake', '59, vine_snake', '60, night_snake', '61, boa_constrictor', '62, rock_python', '63, Indian_cobra', '64, green_mamba', '65, sea_snake', '66, horned_viper', '67, diamondback', '68, sidewinder', '69, trilobite', '70, harvestman', '71, scorpion', '72, black_and_gold_garden_spider', '73, barn_spider', '74, garden_spider', '75, black_widow', '76, tarantula', '77, wolf_spider', '78, tick', '79, centipede', '80, black_grouse', '81, ptarmigan', '82, ruffed_grouse', '83, prairie_chicken', '84, peacock', '85, quail', '86, partridge', '87, African_grey', '88, macaw', '89, sulphur-crested_cockatoo', '90, lorikeet', '91, coucal', '92, bee_eater', '93, hornbill', '94, hummingbird', '95, jacamar', '96, toucan', '97, drake', '98, red-breasted_merganser', '99, goose', '100, black_swan', '101, tusker', '102, echidna', '103, platypus', '104, wallaby', '105, koala', '106, wombat', '107, jellyfish', '108, sea_anemone', '109, brain_coral', '110, flatworm', '111, nematode', '112, conch', '113, snail', '114, slug', '115, sea_slug', '116, chiton', '117, chambered_nautilus', '118, Dungeness_crab', '119, rock_crab', '120, fiddler_crab', '121, king_crab', '122, American_lobster', '123, spiny_lobster', '124, crayfish', '125, hermit_crab', '126, isopod', '127, white_stork', '128, black_stork', '129, spoonbill', '130, flamingo', '131, little_blue_heron', '132, American_egret', '133, bittern', '134, crane', '135, limpkin', '136, European_gallinule', '137, American_coot', '138, bustard', '139, ruddy_turnstone', '140, red-backed_sandpiper', '141, redshank', '142, dowitcher', '143, oystercatcher', '144, pelican', '145, king_penguin', '146, albatross', '147, grey_whale', '148, killer_whale', '149, dugong', '150, sea_lion', '151, Chihuahua', '152, Japanese_spaniel', '153, Maltese_dog', '154, Pekinese', '155, Shih-Tzu', '156, Blenheim_spaniel', '157, papillon', '158, toy_terrier', '159, Rhodesian_ridgeback', '160, Afghan_hound', '161, basset', '162, beagle', '163, bloodhound', '164, bluetick', '165, black-and-tan_coonhound', '166, Walker_hound', '167, English_foxhound', '168, redbone', '169, borzoi', '170, Irish_wolfhound', '171, Italian_greyhound', '172, whippet', '173, Ibizan_hound', '174, Norwegian_elkhound', '175, otterhound', '176, Saluki', '177, Scottish_deerhound', '178, Weimaraner', '179, Staffordshire_bullterrier', '180, American_Staffordshire_terrier', '181, Bedlington_terrier', '182, Border_terrier', '183, Kerry_blue_terrier', '184, Irish_terrier', '185, Norfolk_terrier', '186, Norwich_terrier', '187, Yorkshire_terrier', '188, wire-haired_fox_terrier', '189, Lakeland_terrier', '190, Sealyham_terrier', '191, Airedale', '192, cairn', '193, Australian_terrier', '194, Dandie_Dinmont', '195, Boston_bull', '196, miniature_schnauzer', '197, giant_schnauzer', '198, standard_schnauzer', '199, Scotch_terrier', '200, Tibetan_terrier', '201, silky_terrier', '202, soft-coated_wheaten_terrier', '203, West_Highland_white_terrier', '204, Lhasa', '205, flat-coated_retriever', '206, curly-coated_retriever', '207, golden_retriever', '208, Labrador_retriever', '209, Chesapeake_Bay_retriever', '210, German_short-haired_pointer', '211, vizsla', '212, English_setter', '213, Irish_setter', '214, Gordon_setter', '215, Brittany_spaniel', '216, clumber', '217, English_springer', '218, Welsh_springer_spaniel', '219, cocker_spaniel', '220, Sussex_spaniel', '221, Irish_water_spaniel', '222, kuvasz', '223, schipperke', '224, groenendael', '225, malinois', '226, briard', '227, kelpie', '228, komondor', '229, Old_English_sheepdog', '230, Shetland_sheepdog', '231, collie', '232, Border_collie', '233, Bouvier_des_Flandres', '234, Rottweiler', '235, German_shepherd', '236, Doberman', '237, miniature_pinscher', '238, Greater_Swiss_Mountain_dog', '239, Bernese_mountain_dog', '240, Appenzeller', '241, EntleBucher', '242, boxer', '243, bull_mastiff', '244, Tibetan_mastiff', '245, French_bulldog', '246, Great_Dane', '247, Saint_Bernard', '248, Eskimo_dog', '249, malamute', '250, Siberian_husky', '251, dalmatian', '252, affenpinscher', '253, basenji', '254, pug', '255, Leonberg', '256, Newfoundland', '257, Great_Pyrenees', '258, Samoyed', '259, Pomeranian', '260, chow', '261, keeshond', '262, Brabancon_griffon', '263, Pembroke', '264, Cardigan', '265, toy_poodle', '266, miniature_poodle', '267, standard_poodle', '268, Mexican_hairless', '269, timber_wolf', '270, white_wolf', '271, red_wolf', '272, coyote', '273, dingo', '274, dhole', '275, African_hunting_dog', '276, hyena', '277, red_fox', '278, kit_fox', '279, Arctic_fox', '280, grey_fox', '281, tabby', '282, tiger_cat', '283, Persian_cat', '284, Siamese_cat', '285, Egyptian_cat', '286, cougar', '287, lynx', '288, leopard', '289, snow_leopard', '290, jaguar', '291, lion', '292, tiger', '293, cheetah', '294, brown_bear', '295, American_black_bear', '296, ice_bear', '297, sloth_bear', '298, mongoose', '299, meerkat', '300, tiger_beetle', '301, ladybug', '302, ground_beetle', '303, long-horned_beetle', '304, leaf_beetle', '305, dung_beetle', '306, rhinoceros_beetle', '307, weevil', '308, fly', '309, bee', '310, ant', '311, grasshopper', '312, cricket', '313, walking_stick', '314, cockroach', '315, mantis', '316, cicada', '317, leafhopper', '318, lacewing', '319, dragonfly', '320, damselfly', '321, admiral', '322, ringlet', '323, monarch', '324, cabbage_butterfly', '325, sulphur_butterfly', '326, lycaenid', '327, starfish', '328, sea_urchin', '329, sea_cucumber', '330, wood_rabbit', '331, hare', '332, Angora', '333, hamster', '334, porcupine', '335, fox_squirrel', '336, marmot', '337, beaver', '338, guinea_pig', '339, sorrel', '340, zebra', '341, hog', '342, wild_boar', '343, warthog', '344, hippopotamus', '345, ox', '346, water_buffalo', '347, bison', '348, ram', '349, bighorn', '350, ibex', '351, hartebeest', '352, impala', '353, gazelle', '354, Arabian_camel', '355, llama', '356, weasel', '357, mink', '358, polecat', '359, black-footed_ferret', '360, otter', '361, skunk', '362, badger', '363, armadillo', '364, three-toed_sloth', '365, orangutan', '366, gorilla', '367, chimpanzee', '368, gibbon', '369, siamang', '370, guenon', '371, patas', '372, baboon', '373, macaque', '374, langur', '375, colobus', '376, proboscis_monkey', '377, marmoset', '378, capuchin', '379, howler_monkey', '380, titi', '381, spider_monkey', '382, squirrel_monkey', '383, Madagascar_cat', '384, indri', '385, Indian_elephant', '386, African_elephant', '387, lesser_panda', '388, giant_panda', '389, barracouta', '390, eel', '391, coho', '392, rock_beauty', '393, anemone_fish', '394, sturgeon', '395, gar', '396, lionfish', '397, puffer', '398, abacus', '399, abaya', '400, academic_gown', '401, accordion', '402, acoustic_guitar', '403, aircraft_carrier', '404, airliner', '405, airship', '406, altar', '407, ambulance', '408, amphibian', '409, analog_clock', '410, apiary', '411, apron', '412, ashcan', '413, assault_rifle', '414, backpack', '415, bakery', '416, balance_beam', '417, balloon', '418, ballpoint', '419, Band_Aid', '420, banjo', '421, bannister', '422, barbell', '423, barber_chair', '424, barbershop', '425, barn', '426, barometer', '427, barrel', '428, barrow', '429, baseball', '430, basketball', '431, bassinet', '432, bassoon', '433, bathing_cap', '434, bath_towel', '435, bathtub', '436, beach_wagon', '437, beacon', '438, beaker', '439, bearskin', '440, beer_bottle', '441, beer_glass', '442, bell_cote', '443, bib', '444, bicycle-built-for-two', '445, bikini', '446, binder', '447, binoculars', '448, birdhouse', '449, boathouse', '450, bobsled', '451, bolo_tie', '452, bonnet', '453, bookcase', '454, bookshop', '455, bottlecap', '456, bow', '457, bow_tie', '458, brass', '459, brassiere', '460, breakwater', '461, breastplate', '462, broom', '463, bucket', '464, buckle', '465, bulletproof_vest', '466, bullet_train', '467, butcher_shop', '468, cab', '469, caldron', '470, candle', '471, cannon', '472, canoe', '473, can_opener', '474, cardigan', '475, car_mirror', '476, carousel', \"477, carpenter's_kit\", '478, carton', '479, car_wheel', '480, cash_machine', '481, cassette', '482, cassette_player', '483, castle', '484, catamaran', '485, CD_player', '486, cello', '487, cellular_telephone', '488, chain', '489, chainlink_fence', '490, chain_mail', '491, chain_saw', '492, chest', '493, chiffonier', '494, chime', '495, china_cabinet', '496, Christmas_stocking', '497, church', '498, cinema', '499, cleaver', '500, cliff_dwelling', '501, cloak', '502, clog', '503, cocktail_shaker', '504, coffee_mug', '505, coffeepot', '506, coil', '507, combination_lock', '508, computer_keyboard', '509, confectionery', '510, container_ship', '511, convertible', '512, corkscrew', '513, cornet', '514, cowboy_boot', '515, cowboy_hat', '516, cradle', '517, crane', '518, crash_helmet', '519, crate', '520, crib', '521, Crock_Pot', '522, croquet_ball', '523, crutch', '524, cuirass', '525, dam', '526, desk', '527, desktop_computer', '528, dial_telephone', '529, diaper', '530, digital_clock', '531, digital_watch', '532, dining_table', '533, dishrag', '534, dishwasher', '535, disk_brake', '536, dock', '537, dogsled', '538, dome', '539, doormat', '540, drilling_platform', '541, drum', '542, drumstick', '543, dumbbell', '544, Dutch_oven', '545, electric_fan', '546, electric_guitar', '547, electric_locomotive', '548, entertainment_center', '549, envelope', '550, espresso_maker', '551, face_powder', '552, feather_boa', '553, file', '554, fireboat', '555, fire_engine', '556, fire_screen', '557, flagpole', '558, flute', '559, folding_chair', '560, football_helmet', '561, forklift', '562, fountain', '563, fountain_pen', '564, four-poster', '565, freight_car', '566, French_horn', '567, frying_pan', '568, fur_coat', '569, garbage_truck', '570, gasmask', '571, gas_pump', '572, goblet', '573, go-kart', '574, golf_ball', '575, golfcart', '576, gondola', '577, gong', '578, gown', '579, grand_piano', '580, greenhouse', '581, grille', '582, grocery_store', '583, guillotine', '584, hair_slide', '585, hair_spray', '586, half_track', '587, hammer', '588, hamper', '589, hand_blower', '590, hand-held_computer', '591, handkerchief', '592, hard_disc', '593, harmonica', '594, harp', '595, harvester', '596, hatchet', '597, holster', '598, home_theater', '599, honeycomb', '600, hook', '601, hoopskirt', '602, horizontal_bar', '603, horse_cart', '604, hourglass', '605, iPod', '606, iron', \"607, jack-o'-lantern\", '608, jean', '609, jeep', '610, jersey', '611, jigsaw_puzzle', '612, jinrikisha', '613, joystick', '614, kimono', '615, knee_pad', '616, knot', '617, lab_coat', '618, ladle', '619, lampshade', '620, laptop', '621, lawn_mower', '622, lens_cap', '623, letter_opener', '624, library', '625, lifeboat', '626, lighter', '627, limousine', '628, liner', '629, lipstick', '630, Loafer', '631, lotion', '632, loudspeaker', '633, loupe', '634, lumbermill', '635, magnetic_compass', '636, mailbag', '637, mailbox', '638, maillot', '639, maillot', '640, manhole_cover', '641, maraca', '642, marimba', '643, mask', '644, matchstick', '645, maypole', '646, maze', '647, measuring_cup', '648, medicine_chest', '649, megalith', '650, microphone', '651, microwave', '652, military_uniform', '653, milk_can', '654, minibus', '655, miniskirt', '656, minivan', '657, missile', '658, mitten', '659, mixing_bowl', '660, mobile_home', '661, Model_T', '662, modem', '663, monastery', '664, monitor', '665, moped', '666, mortar', '667, mortarboard', '668, mosque', '669, mosquito_net', '670, motor_scooter', '671, mountain_bike', '672, mountain_tent', '673, mouse', '674, mousetrap', '675, moving_van', '676, muzzle', '677, nail', '678, neck_brace', '679, necklace', '680, nipple', '681, notebook', '682, obelisk', '683, oboe', '684, ocarina', '685, odometer', '686, oil_filter', '687, organ', '688, oscilloscope', '689, overskirt', '690, oxcart', '691, oxygen_mask', '692, packet', '693, paddle', '694, paddlewheel', '695, padlock', '696, paintbrush', '697, pajama', '698, palace', '699, panpipe', '700, paper_towel', '701, parachute', '702, parallel_bars', '703, park_bench', '704, parking_meter', '705, passenger_car', '706, patio', '707, pay-phone', '708, pedestal', '709, pencil_box', '710, pencil_sharpener', '711, perfume', '712, Petri_dish', '713, photocopier', '714, pick', '715, pickelhaube', '716, picket_fence', '717, pickup', '718, pier', '719, piggy_bank', '720, pill_bottle', '721, pillow', '722, ping-pong_ball', '723, pinwheel', '724, pirate', '725, pitcher', '726, plane', '727, planetarium', '728, plastic_bag', '729, plate_rack', '730, plow', '731, plunger', '732, Polaroid_camera', '733, pole', '734, police_van', '735, poncho', '736, pool_table', '737, pop_bottle', '738, pot', \"739, potter's_wheel\", '740, power_drill', '741, prayer_rug', '742, printer', '743, prison', '744, projectile', '745, projector', '746, puck', '747, punching_bag', '748, purse', '749, quill', '750, quilt', '751, racer', '752, racket', '753, radiator', '754, radio', '755, radio_telescope', '756, rain_barrel', '757, recreational_vehicle', '758, reel', '759, reflex_camera', '760, refrigerator', '761, remote_control', '762, restaurant', '763, revolver', '764, rifle', '765, rocking_chair', '766, rotisserie', '767, rubber_eraser', '768, rugby_ball', '769, rule', '770, running_shoe', '771, safe', '772, safety_pin', '773, saltshaker', '774, sandal', '775, sarong', '776, sax', '777, scabbard', '778, scale', '779, school_bus', '780, schooner', '781, scoreboard', '782, screen', '783, screw', '784, screwdriver', '785, seat_belt', '786, sewing_machine', '787, shield', '788, shoe_shop', '789, shoji', '790, shopping_basket', '791, shopping_cart', '792, shovel', '793, shower_cap', '794, shower_curtain', '795, ski', '796, ski_mask', '797, sleeping_bag', '798, slide_rule', '799, sliding_door', '800, slot', '801, snorkel', '802, snowmobile', '803, snowplow', '804, soap_dispenser', '805, soccer_ball', '806, sock', '807, solar_dish', '808, sombrero', '809, soup_bowl', '810, space_bar', '811, space_heater', '812, space_shuttle', '813, spatula', '814, speedboat', '815, spider_web', '816, spindle', '817, sports_car', '818, spotlight', '819, stage', '820, steam_locomotive', '821, steel_arch_bridge', '822, steel_drum', '823, stethoscope', '824, stole', '825, stone_wall', '826, stopwatch', '827, stove', '828, strainer', '829, streetcar', '830, stretcher', '831, studio_couch', '832, stupa', '833, submarine', '834, suit', '835, sundial', '836, sunglass', '837, sunglasses', '838, sunscreen', '839, suspension_bridge', '840, swab', '841, sweatshirt', '842, swimming_trunks', '843, swing', '844, switch', '845, syringe', '846, table_lamp', '847, tank', '848, tape_player', '849, teapot', '850, teddy', '851, television', '852, tennis_ball', '853, thatch', '854, theater_curtain', '855, thimble', '856, thresher', '857, throne', '858, tile_roof', '859, toaster', '860, tobacco_shop', '861, toilet_seat', '862, torch', '863, totem_pole', '864, tow_truck', '865, toyshop', '866, tractor', '867, trailer_truck', '868, tray', '869, trench_coat', '870, tricycle', '871, trimaran', '872, tripod', '873, triumphal_arch', '874, trolleybus', '875, trombone', '876, tub', '877, turnstile', '878, typewriter_keyboard', '879, umbrella', '880, unicycle', '881, upright', '882, vacuum', '883, vase', '884, vault', '885, velvet', '886, vending_machine', '887, vestment', '888, viaduct', '889, violin', '890, volleyball', '891, waffle_iron', '892, wall_clock', '893, wallet', '894, wardrobe', '895, warplane', '896, washbasin', '897, washer', '898, water_bottle', '899, water_jug', '900, water_tower', '901, whiskey_jug', '902, whistle', '903, wig', '904, window_screen', '905, window_shade', '906, Windsor_tie', '907, wine_bottle', '908, wing', '909, wok', '910, wooden_spoon', '911, wool', '912, worm_fence', '913, wreck', '914, yawl', '915, yurt', '916, web_site', '917, comic_book', '918, crossword_puzzle', '919, street_sign', '920, traffic_light', '921, book_jacket', '922, menu', '923, plate', '924, guacamole', '925, consomme', '926, hot_pot', '927, trifle', '928, ice_cream', '929, ice_lolly', '930, French_loaf', '931, bagel', '932, pretzel', '933, cheeseburger', '934, hotdog', '935, mashed_potato', '936, head_cabbage', '937, broccoli', '938, cauliflower', '939, zucchini', '940, spaghetti_squash', '941, acorn_squash', '942, butternut_squash', '943, cucumber', '944, artichoke', '945, bell_pepper', '946, cardoon', '947, mushroom', '948, Granny_Smith', '949, strawberry', '950, orange', '951, lemon', '952, fig', '953, pineapple', '954, banana', '955, jackfruit', '956, custard_apple', '957, pomegranate', '958, hay', '959, carbonara', '960, chocolate_sauce', '961, dough', '962, meat_loaf', '963, pizza', '964, potpie', '965, burrito', '966, red_wine', '967, espresso', '968, cup', '969, eggnog', '970, alp', '971, bubble', '972, cliff', '973, coral_reef', '974, geyser', '975, lakeside', '976, promontory', '977, sandbar', '978, seashore', '979, valley', '980, volcano', '981, ballplayer', '982, groom', '983, scuba_diver', '984, rapeseed', '985, daisy', \"986, yellow_lady's_slipper\", '987, corn', '988, acorn', '989, hip', '990, buckeye', '991, coral_fungus', '992, agaric', '993, gyromitra', '994, stinkhorn', '995, earthstar', '996, hen-of-the-woods', '997, bolete', '998, ear', '999, toilet_tissue']\n"
     ]
    }
   ],
   "source": [
    "with open('imagenet_classes.txt') as f:\n",
    "    classes = [line.strip() for line in f.readlines()]\n",
    "print(classes)"
   ]
  },
  {
   "cell_type": "code",
   "execution_count": 11,
   "metadata": {},
   "outputs": [
    {
     "name": "stdout",
     "output_type": "stream",
     "text": [
      "386, African_elephant 50.09819793701172\n"
     ]
    }
   ],
   "source": [
    "_, index = torch.max(out, 1)\n",
    "percentage = torch.nn.functional.softmax(out, dim=1)[0] * 100\n",
    "print(classes[index[0]], percentage[index[0]].item())"
   ]
  },
  {
   "cell_type": "code",
   "execution_count": 12,
   "metadata": {
    "scrolled": true
   },
   "outputs": [
    {
     "data": {
      "text/plain": [
       "[('386, African_elephant', 50.09819793701172),\n",
       " ('101, tusker', 47.884796142578125),\n",
       " ('385, Indian_elephant', 2.0158541202545166),\n",
       " ('51, triceratops', 0.001058789435774088),\n",
       " ('346, water_buffalo', 3.248186476412229e-05)]"
      ]
     },
     "execution_count": 12,
     "metadata": {},
     "output_type": "execute_result"
    }
   ],
   "source": [
    "_, indices = torch.sort(out, descending=True)\n",
    "[(classes[idx], percentage[idx].item()) for idx in indices[0][:5]]"
   ]
  },
  {
   "cell_type": "markdown",
   "metadata": {},
   "source": [
    "#### Pytorch Hub   ref: https://pytorch.org/hub/"
   ]
  }
 ],
 "metadata": {
  "kernelspec": {
   "display_name": "Python 3 (ipykernel)",
   "language": "python",
   "name": "python3"
  },
  "language_info": {
   "codemirror_mode": {
    "name": "ipython",
    "version": 3
   },
   "file_extension": ".py",
   "mimetype": "text/x-python",
   "name": "python",
   "nbconvert_exporter": "python",
   "pygments_lexer": "ipython3",
   "version": "3.8.13"
  }
 },
 "nbformat": 4,
 "nbformat_minor": 4
}

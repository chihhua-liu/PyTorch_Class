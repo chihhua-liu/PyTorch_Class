{
 "cells": [
  {
   "cell_type": "code",
   "execution_count": 1,
   "metadata": {},
   "outputs": [
    {
     "name": "stdout",
     "output_type": "stream",
     "text": [
      "Using cpu device\n",
      "epoch: 0, Train Loss: 0.205710, Train Acc: 0.920008, Eval Loss: 0.031772, Eval Acc: 0.994792\n",
      "epoch: 1, Train Loss: 0.013989, Train Acc: 0.997642, Eval Loss: 0.007587, Eval Acc: 1.000000\n",
      "epoch: 2, Train Loss: 0.004642, Train Acc: 1.000000, Eval Loss: 0.003597, Eval Acc: 1.000000\n",
      "epoch: 3, Train Loss: 0.002472, Train Acc: 1.000000, Eval Loss: 0.001952, Eval Acc: 1.000000\n",
      "epoch: 4, Train Loss: 0.001583, Train Acc: 1.000000, Eval Loss: 0.001331, Eval Acc: 1.000000\n"
     ]
    }
   ],
   "source": [
    "import torch\n",
    "from torchvision.datasets import mnist\n",
    "import numpy as np\n",
    "import torch.nn.functional as F\n",
    "from torch import nn\n",
    "import matplotlib.pyplot as plt\n",
    "from torch.utils.data import Dataset, DataLoader\n",
    "import pandas as pd\n",
    "# Get cpu or gpu device for training.\n",
    "device = \"cuda\" if torch.cuda.is_available() else \"cpu\"\n",
    "print(\"Using {} device\".format(device))\n",
    "\n",
    "\n",
    "class MushroomDataset(Dataset):\n",
    "\n",
    "    def __init__(self, file_path):\n",
    "        \n",
    "        self.file_path = file_path\n",
    "        \n",
    "              \n",
    "        df_train = pd.read_csv(self.file_path)\n",
    "\n",
    "        self.labels = np.array(df_train['class'])\n",
    "        self.dataset =  np.array(df_train.drop('class', axis=1))\n",
    "        \n",
    "        \n",
    "    def __getitem__(self, index):\n",
    "        \"\"\"\n",
    "        return a single data and a corresponding single label\n",
    "        \"\"\"\n",
    "\n",
    "        \n",
    "        return self.dataset[index], self.labels[index]\n",
    "\n",
    "    def __len__(self):\n",
    "        \"\"\"\n",
    "        return total data length\n",
    "        \"\"\"\n",
    "        \n",
    "        return len(self.dataset)\n",
    "\n",
    "\n",
    "trainset = MushroomDataset('./mushroom_train.csv')\n",
    "testset = MushroomDataset('./mushroom_test.csv')\n",
    "\n",
    "\n",
    "train_data = DataLoader(trainset, batch_size=32, shuffle=True)\n",
    "test_data = DataLoader(testset, batch_size=64, shuffle=False)\n",
    "\n",
    "class DNN(nn.Module):\n",
    "    def __init__(self):\n",
    "        super(DNN, self).__init__()\n",
    "        self.fc1 = nn.Linear(98, 64)\n",
    "        self.fc2 = nn.Linear(64, 32)\n",
    "        self.fc3 = nn.Linear(32, 2)\n",
    "    \n",
    "    def forward(self, x):\n",
    "        x = F.relu(self.fc1(x))\n",
    "        x = F.relu(self.fc2(x))\n",
    "        x = self.fc3(x)\n",
    "        return x\n",
    "\n",
    "# build model\n",
    "model = DNN().to(device)\n",
    "\n",
    "# define cost\n",
    "criterion = nn.CrossEntropyLoss()\n",
    "\n",
    "# optimization\n",
    "optimizer = torch.optim.SGD(model.parameters(), 0.1)\n",
    "#optimizer = torch.optim.RMSprop(model.parameters(), 0.01, alpha=0.9)\n",
    "#optimizer = torch.optim.Adam(model.parameters(), 0.01, betas=(0.9, 0.99))\n",
    "\n",
    "losses = []\n",
    "acces = []\n",
    "eval_losses = []\n",
    "eval_acces = []\n",
    "\n",
    "\n",
    "\n",
    "for epoch in range(5):\n",
    "    train_loss = 0\n",
    "    train_acc = 0\n",
    "    model.train()      \n",
    "    \n",
    "    for im, label in train_data:\n",
    "        \n",
    "        im = im.to(device)\n",
    "        label = label.to(device)\n",
    "        pred = model(im.float())\n",
    "        \n",
    "        loss = criterion(pred, label)\n",
    "        \n",
    "        # zero the parameter gradients\n",
    "        optimizer.zero_grad()\n",
    "        \n",
    "        loss.backward()\n",
    "        \n",
    "        optimizer.step()\n",
    "        \n",
    "        train_loss += loss.item()\n",
    "        \n",
    "\n",
    "        _, pred = pred.max(1)\n",
    "        num_correct = (pred == label).sum().item()\n",
    "        acc = num_correct / im.shape[0]\n",
    "        train_acc += acc\n",
    "        \n",
    "    losses.append(train_loss / len(train_data))\n",
    "    acces.append(train_acc / len(train_data))\n",
    "    \n",
    "\n",
    "    eval_loss = 0\n",
    "    eval_acc = 0\n",
    "    model.eval()\n",
    "    \n",
    "    for im, label in test_data:\n",
    "\n",
    "        im = im.to(device)\n",
    "        label = label.to(device)\n",
    "        \n",
    "        pred = model(im.float())\n",
    "        loss = criterion(pred, label)\n",
    "\n",
    "        \n",
    "        eval_loss += loss.item()\n",
    "\n",
    "        \n",
    "        _, pred = pred.max(1)\n",
    "        num_correct = (pred == label).sum().item()\n",
    "        acc = num_correct / im.shape[0]\n",
    "        eval_acc += acc\n",
    "    \n",
    "    eval_losses.append(eval_loss / len(test_data))\n",
    "    eval_acces.append(eval_acc / len(test_data))\n",
    "    print('epoch: {}, Train Loss: {:.6f}, Train Acc: {:.6f}, Eval Loss: {:.6f}, Eval Acc: {:.6f}'\n",
    "          .format(epoch, train_loss / len(train_data), train_acc / len(train_data), eval_loss / len(test_data), eval_acc / len(test_data)))"
   ]
  },
  {
   "cell_type": "code",
   "execution_count": 2,
   "metadata": {},
   "outputs": [
    {
     "data": {
      "image/png": "[encoded data removed]",
      "text/plain": [
       "<Figure size 432x288 with 1 Axes>"
      ]
     },
     "metadata": {
      "needs_background": "light"
     },
     "output_type": "display_data"
    }
   ],
   "source": [
    "plt.plot(np.arange(0,5),losses)\n",
    "plt.plot(np.arange(0,5),eval_losses)\n",
    "plt.title('Model  Loss')\n",
    "plt.xlabel('Epoch')        \n",
    "plt.ylabel('Loss')\n",
    "plt.legend(['Train', 'Test'], loc='upper right')\n",
    "\n",
    "plt.show()"
   ]
  },
  {
   "cell_type": "code",
   "execution_count": 3,
   "metadata": {},
   "outputs": [
    {
     "data": {
      "image/png": "[encoded data removed]",
      "text/plain": [
       "<Figure size 432x288 with 1 Axes>"
      ]
     },
     "metadata": {
      "needs_background": "light"
     },
     "output_type": "display_data"
    }
   ],
   "source": [
    "plt.plot(np.arange(0,5),acces)\n",
    "plt.plot(np.arange(0,5),eval_acces)\n",
    "plt.title('Model  Accuracy')\n",
    "plt.xlabel('Epoch')        \n",
    "plt.ylabel('Accuracy')\n",
    "plt.legend(['Train', 'Test'], loc='upper right')\n",
    "\n",
    "plt.show()"
   ]
  },
  {
   "cell_type": "code",
   "execution_count": null,
   "metadata": {},
   "outputs": [],
   "source": []
  }
 ],
 "metadata": {
  "kernelspec": {
   "display_name": "Python 3 (ipykernel)",
   "language": "python",
   "name": "python3"
  },
  "language_info": {
   "codemirror_mode": {
    "name": "ipython",
    "version": 3
   },
   "file_extension": ".py",
   "mimetype": "text/x-python",
   "name": "python",
   "nbconvert_exporter": "python",
   "pygments_lexer": "ipython3",
   "version": "3.8.13"
  }
 },
 "nbformat": 4,
 "nbformat_minor": 4
}

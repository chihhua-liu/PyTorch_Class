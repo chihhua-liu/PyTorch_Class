{
 "cells": [
  {
   "cell_type": "markdown",
   "metadata": {},
   "source": [
    "# 計算未來累積賞酬"
   ]
  },
  {
   "cell_type": "code",
   "execution_count": 4,
   "metadata": {},
   "outputs": [
    {
     "name": "stdout",
     "output_type": "stream",
     "text": [
      "125.0\n"
     ]
    }
   ],
   "source": [
    "reward_list = [100, -200, 500, 300, -600]\n",
    "\n",
    "gama = 0.5\n",
    "acc_reward = 0\n",
    "\n",
    "for index, i in enumerate(reward_list):\n",
    "    acc_reward  = acc_reward  + pow(gama,index)*i\n",
    "\n",
    "print(acc_reward)\n"
   ]
  },
  {
   "cell_type": "markdown",
   "metadata": {},
   "source": [
    "# 調高衰減因子"
   ]
  },
  {
   "cell_type": "code",
   "execution_count": 5,
   "metadata": {},
   "outputs": [
    {
     "name": "stdout",
     "output_type": "stream",
     "text": [
      "167.84000000000003\n"
     ]
    }
   ],
   "source": [
    "reward_list = [100, -200, 500, 300, -600]\n",
    "\n",
    "gama = 0.8\n",
    "acc_reward = 0\n",
    "\n",
    "for index, i in enumerate(reward_list):\n",
    "    acc_reward  = acc_reward  + pow(gama,index)*i\n",
    "\n",
    "print(acc_reward)"
   ]
  },
  {
   "cell_type": "markdown",
   "metadata": {},
   "source": [
    "# 調低衰減因子"
   ]
  },
  {
   "cell_type": "code",
   "execution_count": 6,
   "metadata": {},
   "outputs": [
    {
     "name": "stdout",
     "output_type": "stream",
     "text": [
      "88.24\n"
     ]
    }
   ],
   "source": [
    "reward_list = [100, -200, 500, 300, -600]\n",
    "\n",
    "gama = 0.3\n",
    "acc_reward = 0\n",
    "\n",
    "for index, i in enumerate(reward_list):\n",
    "    acc_reward  = acc_reward  + pow(gama,index)*i\n",
    "\n",
    "print(acc_reward)"
   ]
  },
  {
   "cell_type": "code",
   "execution_count": null,
   "metadata": {},
   "outputs": [],
   "source": []
  }
 ],
 "metadata": {
  "kernelspec": {
   "display_name": "Python 3 (ipykernel)",
   "language": "python",
   "name": "python3"
  },
  "language_info": {
   "codemirror_mode": {
    "name": "ipython",
    "version": 3
   },
   "file_extension": ".py",
   "mimetype": "text/x-python",
   "name": "python",
   "nbconvert_exporter": "python",
   "pygments_lexer": "ipython3",
   "version": "3.8.13"
  }
 },
 "nbformat": 4,
 "nbformat_minor": 4
}

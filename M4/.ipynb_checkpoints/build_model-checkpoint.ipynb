{
 "cells": [
  {
   "cell_type": "markdown",
   "metadata": {},
   "source": [
    "# MNIST  \n",
    "`pip install ipywidgets`"
   ]
  },
  {
   "cell_type": "code",
   "execution_count": 1,
   "metadata": {},
   "outputs": [
    {
     "name": "stdout",
     "output_type": "stream",
     "text": [
      "60000\n",
      "(60000, 28, 28)\n",
      "(60000,)\n",
      "[5 0 4 ... 5 6 8]\n",
      "(10000, 28, 28)\n"
     ]
    },
    {
     "name": "stderr",
     "output_type": "stream",
     "text": [
      "C:\\Users\\user\\anaconda3\\envs\\pytorch\\lib\\site-packages\\torchvision\\datasets\\mnist.py:58: UserWarning: train_data has been renamed data\n",
      "  warnings.warn(\"train_data has been renamed data\")\n",
      "C:\\Users\\user\\anaconda3\\envs\\pytorch\\lib\\site-packages\\torchvision\\datasets\\mnist.py:48: UserWarning: train_labels has been renamed targets\n",
      "  warnings.warn(\"train_labels has been renamed targets\")\n",
      "C:\\Users\\user\\anaconda3\\envs\\pytorch\\lib\\site-packages\\torchvision\\datasets\\mnist.py:63: UserWarning: test_data has been renamed data\n",
      "  warnings.warn(\"test_data has been renamed data\")\n"
     ]
    }
   ],
   "source": [
    "import torch\n",
    "from torchvision.datasets import mnist\n",
    "from torch.utils.data import DataLoader\n",
    "import numpy as np\n",
    "def data_transform(x):\n",
    "    x = np.array(x, dtype = 'float32') / 255\n",
    "    x = x.reshape((-1, ))\n",
    "    x = torch.from_numpy(x)\n",
    "    return x\n",
    "\n",
    "trainset = mnist.MNIST('./dataset/mnist', train=True, transform=data_transform, download=True)\n",
    "testset = mnist.MNIST('./dataset/mnist', train = False, transform=data_transform, download=True)\n",
    "\n",
    "train_data = DataLoader(trainset, batch_size=64, shuffle=True)\n",
    "test_data = DataLoader(testset, batch_size=128, shuffle=False)\n",
    "\n",
    "\n",
    "print(len(trainset.train_data))\n",
    "print(trainset.train_data.numpy().shape)\n",
    "print(trainset.train_labels.numpy().shape)\n",
    "print(trainset.train_labels.numpy())\n",
    "print(testset.test_data.numpy().shape)\n"
   ]
  },
  {
   "cell_type": "code",
   "execution_count": 2,
   "metadata": {},
   "outputs": [
    {
     "name": "stderr",
     "output_type": "stream",
     "text": [
      "C:\\Users\\user\\anaconda3\\envs\\pytorch\\lib\\site-packages\\torchvision\\datasets\\mnist.py:58: UserWarning: train_data has been renamed data\n",
      "  warnings.warn(\"train_data has been renamed data\")\n"
     ]
    },
    {
     "data": {
      "text/plain": [
       "<matplotlib.image.AxesImage at 0x29c2bccbe20>"
      ]
     },
     "execution_count": 2,
     "metadata": {},
     "output_type": "execute_result"
    },
    {
     "data": {
      "image/png": "[encoded data removed]",
      "text/plain": [
       "<Figure size 432x288 with 1 Axes>"
      ]
     },
     "metadata": {
      "needs_background": "light"
     },
     "output_type": "display_data"
    }
   ],
   "source": [
    "import matplotlib.pyplot as plt\n",
    "\n",
    "plt.imshow(trainset.train_data[0].numpy(),cmap='gray')"
   ]
  },
  {
   "cell_type": "code",
   "execution_count": 3,
   "metadata": {},
   "outputs": [
    {
     "name": "stdout",
     "output_type": "stream",
     "text": [
      "torch.Size([64, 784])\n",
      "torch.Size([64])\n",
      "tensor([[0., 0., 0.,  ..., 0., 0., 0.],\n",
      "        [0., 0., 0.,  ..., 0., 0., 0.],\n",
      "        [0., 0., 0.,  ..., 0., 0., 0.],\n",
      "        ...,\n",
      "        [0., 0., 0.,  ..., 0., 0., 0.],\n",
      "        [0., 0., 0.,  ..., 0., 0., 0.],\n",
      "        [0., 0., 0.,  ..., 0., 0., 0.]])\n",
      "tensor([3, 0, 7, 2, 6, 1, 3, 7, 6, 4, 6, 1, 1, 6, 6, 0, 3, 6, 5, 2, 3, 3, 4, 3,\n",
      "        7, 3, 8, 0, 0, 6, 2, 9, 6, 0, 1, 7, 1, 7, 1, 1, 7, 9, 8, 3, 7, 6, 0, 5,\n",
      "        9, 6, 2, 1, 0, 9, 4, 5, 5, 8, 8, 1, 6, 4, 3, 3])\n"
     ]
    }
   ],
   "source": [
    "for images, labels in train_data:\n",
    "    print(images.shape)\n",
    "    print(labels.shape)\n",
    "    print(images)\n",
    "    print(labels)\n",
    "\n",
    "    break"
   ]
  },
  {
   "cell_type": "markdown",
   "metadata": {},
   "source": [
    "# Build DNN Model(Functional API)"
   ]
  },
  {
   "cell_type": "code",
   "execution_count": 4,
   "metadata": {},
   "outputs": [
    {
     "name": "stdout",
     "output_type": "stream",
     "text": [
      "Using cpu device\n",
      "DNN(\n",
      "  (fc1): Linear(in_features=784, out_features=500, bias=True)\n",
      "  (fc2): Linear(in_features=500, out_features=250, bias=True)\n",
      "  (fc3): Linear(in_features=250, out_features=125, bias=True)\n",
      "  (fc4): Linear(in_features=125, out_features=10, bias=True)\n",
      ")\n",
      "<class 'torch.Tensor'> torch.Size([500, 784])\n",
      "<class 'torch.Tensor'> torch.Size([500])\n",
      "<class 'torch.Tensor'> torch.Size([250, 500])\n",
      "<class 'torch.Tensor'> torch.Size([250])\n",
      "<class 'torch.Tensor'> torch.Size([125, 250])\n",
      "<class 'torch.Tensor'> torch.Size([125])\n",
      "<class 'torch.Tensor'> torch.Size([10, 125])\n",
      "<class 'torch.Tensor'> torch.Size([10])\n",
      "torch.Size([500, 784])\n",
      "torch.Size([500])\n",
      "torch.Size([250, 500])\n",
      "Parameter containing:\n",
      "tensor([[-0.0212, -0.0078, -0.0322,  ..., -0.0195,  0.0284,  0.0143],\n",
      "        [-0.0315,  0.0020,  0.0217,  ...,  0.0297,  0.0217, -0.0018],\n",
      "        [-0.0087, -0.0065, -0.0201,  ...,  0.0349, -0.0267, -0.0041],\n",
      "        ...,\n",
      "        [-0.0093,  0.0283,  0.0203,  ..., -0.0027, -0.0005, -0.0350],\n",
      "        [ 0.0176,  0.0113,  0.0022,  ...,  0.0242,  0.0349,  0.0100],\n",
      "        [-0.0341, -0.0291,  0.0330,  ...,  0.0042,  0.0132, -0.0069]],\n",
      "       requires_grad=True)\n"
     ]
    }
   ],
   "source": [
    "import torch \n",
    "import numpy as np \n",
    "from torchvision.datasets import mnist\n",
    "from torch import nn\n",
    "import matplotlib.pyplot as plt\n",
    "import torch.nn.functional as F\n",
    "from torch.utils.data import DataLoader\n",
    "%matplotlib inline\n",
    "\n",
    "# Get cpu or gpu device for training.\n",
    "device = \"cuda\" if torch.cuda.is_available() else \"cpu\"\n",
    "print(\"Using {} device\".format(device))\n",
    "\n",
    "class DNN(nn.Module):\n",
    "    def __init__(self):\n",
    "        super(DNN, self).__init__()\n",
    "        self.fc1 = nn.Linear(28*28, 500)\n",
    "        self.fc2 = nn.Linear(500, 250)\n",
    "        self.fc3 = nn.Linear(250, 125)\n",
    "        self.fc4 = nn.Linear(125, 10)\n",
    "    \n",
    "    def forward(self, x):\n",
    "        x = F.relu(self.fc1(x))\n",
    "        x = F.relu(self.fc2(x))\n",
    "        x = F.relu(self.fc3(x))\n",
    "        x = self.fc4(x)\n",
    "        return x\n",
    "\n",
    "# build model\n",
    "model = DNN().to(device)\n",
    "print(model)\n",
    "\n",
    "for param in model.parameters():\n",
    "    print(type(param.data), param.size())\n",
    "    \n",
    "param_list = list(model.parameters())\n",
    "print(param_list[0].shape)\n",
    "print(param_list[1].shape)\n",
    "print(param_list[2].shape)\n",
    "print(param_list[0])"
   ]
  },
  {
   "cell_type": "markdown",
   "metadata": {},
   "source": [
    "# Build DNN Model(Sequential API)"
   ]
  },
  {
   "cell_type": "code",
   "execution_count": 5,
   "metadata": {},
   "outputs": [
    {
     "name": "stdout",
     "output_type": "stream",
     "text": [
      "Using cpu device\n",
      "DNN(\n",
      "  (seq): Sequential(\n",
      "    (0): Linear(in_features=784, out_features=500, bias=True)\n",
      "    (1): ReLU()\n",
      "    (2): Linear(in_features=500, out_features=250, bias=True)\n",
      "    (3): ReLU()\n",
      "    (4): Linear(in_features=250, out_features=125, bias=True)\n",
      "    (5): ReLU()\n",
      "    (6): Linear(in_features=125, out_features=10, bias=True)\n",
      "  )\n",
      ")\n",
      "<class 'torch.Tensor'> torch.Size([500, 784])\n",
      "<class 'torch.Tensor'> torch.Size([500])\n",
      "<class 'torch.Tensor'> torch.Size([250, 500])\n",
      "<class 'torch.Tensor'> torch.Size([250])\n",
      "<class 'torch.Tensor'> torch.Size([125, 250])\n",
      "<class 'torch.Tensor'> torch.Size([125])\n",
      "<class 'torch.Tensor'> torch.Size([10, 125])\n",
      "<class 'torch.Tensor'> torch.Size([10])\n",
      "torch.Size([500, 784])\n",
      "torch.Size([500])\n",
      "Parameter containing:\n",
      "tensor([[ 0.0320,  0.0225, -0.0355,  ..., -0.0057,  0.0306,  0.0238],\n",
      "        [ 0.0106,  0.0292,  0.0347,  ..., -0.0190,  0.0134,  0.0329],\n",
      "        [-0.0180,  0.0039,  0.0230,  ...,  0.0098,  0.0129,  0.0317],\n",
      "        ...,\n",
      "        [ 0.0321, -0.0239, -0.0002,  ..., -0.0050,  0.0057,  0.0135],\n",
      "        [ 0.0015, -0.0096, -0.0022,  ..., -0.0213, -0.0126, -0.0235],\n",
      "        [ 0.0315,  0.0265, -0.0064,  ...,  0.0263, -0.0270, -0.0160]],\n",
      "       requires_grad=True)\n"
     ]
    }
   ],
   "source": [
    "import torch \n",
    "import numpy as np \n",
    "from torchvision.datasets import mnist\n",
    "from torch import nn\n",
    "import matplotlib.pyplot as plt\n",
    "import torch.nn.functional as F\n",
    "from torch.utils.data import DataLoader\n",
    "from collections import OrderedDict\n",
    "%matplotlib inline\n",
    "\n",
    "# Get cpu or gpu device for training.\n",
    "device = \"cuda\" if torch.cuda.is_available() else \"cpu\"\n",
    "print(\"Using {} device\".format(device))\n",
    "\n",
    "class DNN(nn.Module):\n",
    "    def __init__(self):\n",
    "        super(DNN, self).__init__()\n",
    "        \n",
    "        self.seq = nn.Sequential(\n",
    "                   nn.Linear(28*28, 500),\n",
    "                   nn.ReLU(),\n",
    "                   nn.Linear(500, 250),\n",
    "                   nn.ReLU(),\n",
    "                   nn.Linear(250, 125),\n",
    "                   nn.ReLU(),\n",
    "                   nn.Linear(125, 10)\n",
    "                   )\n",
    "        \n",
    "        \n",
    "        '''\n",
    "        self.seq = nn.Sequential()\n",
    "        self.seq.add_module('FC1', nn.Linear(28*28, 500))\n",
    "        self.seq.add_module('AC1', nn.ReLU())\n",
    "        self.seq.add_module('FC2', nn.Linear(500, 250))\n",
    "        self.seq.add_module('AC2', nn.ReLU())\n",
    "        self.seq.add_module('FC3', nn.Linear(250, 125))\n",
    "        self.seq.add_module('AC3', nn.ReLU())\n",
    "        self.seq.add_module('FC4', nn.Linear(125, 10))\n",
    "        self.seq.add_module('AC4', nn.ReLU())\n",
    "        '''\n",
    "        \n",
    "        '''\n",
    "        self.seq = nn.Sequential(\n",
    "                 OrderedDict([\n",
    "                 ('FC1', nn.Linear(28*28, 500)),\n",
    "                 ('AC1', nn.ReLU()),\n",
    "                 ('FC2', nn.Linear(500, 250)),\n",
    "                 ('AC2', nn.ReLU()),\n",
    "                 ('FC3', nn.Linear(250, 125)),\n",
    "                 ('AC3', nn.ReLU()),\n",
    "                 ('FC4', nn.Linear(120, 10)),\n",
    "                 ('AC4', nn.ReLU())\n",
    "                 ]\n",
    "                 ))\n",
    "        \n",
    "         '''\n",
    "    def forward(self, x):\n",
    "        return self.seq(x)\n",
    "        \n",
    "# build model\n",
    "model = DNN().to(device)\n",
    "print(model)\n",
    "\n",
    "for param in model.parameters():\n",
    "    print(type(param.data), param.size())\n",
    "    \n",
    "print(model.seq[0].weight.shape)\n",
    "print(model.seq[0].bias.shape)\n",
    "print(model.seq[0].weight)"
   ]
  },
  {
   "cell_type": "markdown",
   "metadata": {},
   "source": [
    "# Build DNN Model(ModuleList API)"
   ]
  },
  {
   "cell_type": "code",
   "execution_count": 6,
   "metadata": {},
   "outputs": [
    {
     "name": "stdout",
     "output_type": "stream",
     "text": [
      "Using cpu device\n",
      "DNN(\n",
      "  (modlist): ModuleList(\n",
      "    (0): Linear(in_features=784, out_features=500, bias=True)\n",
      "    (1): ReLU()\n",
      "    (2): Linear(in_features=500, out_features=250, bias=True)\n",
      "    (3): ReLU()\n",
      "    (4): Linear(in_features=250, out_features=125, bias=True)\n",
      "    (5): ReLU()\n",
      "    (6): Linear(in_features=125, out_features=10, bias=True)\n",
      "  )\n",
      ")\n",
      "<class 'torch.Tensor'> torch.Size([500, 784])\n",
      "<class 'torch.Tensor'> torch.Size([500])\n",
      "<class 'torch.Tensor'> torch.Size([250, 500])\n",
      "<class 'torch.Tensor'> torch.Size([250])\n",
      "<class 'torch.Tensor'> torch.Size([125, 250])\n",
      "<class 'torch.Tensor'> torch.Size([125])\n",
      "<class 'torch.Tensor'> torch.Size([10, 125])\n",
      "<class 'torch.Tensor'> torch.Size([10])\n",
      "<class 'torch.Tensor'> torch.Size([500, 784])\n",
      "<class 'torch.Tensor'> torch.Size([500])\n",
      "<class 'torch.Tensor'> torch.Size([250, 500])\n",
      "<class 'torch.Tensor'> torch.Size([250])\n",
      "<class 'torch.Tensor'> torch.Size([125, 250])\n",
      "<class 'torch.Tensor'> torch.Size([125])\n",
      "<class 'torch.Tensor'> torch.Size([10, 125])\n",
      "<class 'torch.Tensor'> torch.Size([10])\n",
      "torch.Size([500, 784])\n",
      "torch.Size([500])\n",
      "Parameter containing:\n",
      "tensor([[ 0.0187,  0.0240, -0.0311,  ..., -0.0226, -0.0221, -0.0176],\n",
      "        [ 0.0057,  0.0034,  0.0347,  ...,  0.0343, -0.0026, -0.0251],\n",
      "        [ 0.0115,  0.0240, -0.0076,  ...,  0.0016,  0.0041,  0.0109],\n",
      "        ...,\n",
      "        [-0.0115,  0.0005,  0.0103,  ...,  0.0242,  0.0253,  0.0187],\n",
      "        [-0.0084, -0.0207,  0.0007,  ..., -0.0256, -0.0072,  0.0047],\n",
      "        [-0.0050, -0.0003, -0.0267,  ..., -0.0284, -0.0118,  0.0272]],\n",
      "       requires_grad=True)\n"
     ]
    }
   ],
   "source": [
    "import torch \n",
    "import numpy as np \n",
    "from torchvision.datasets import mnist\n",
    "from torch import nn\n",
    "import matplotlib.pyplot as plt\n",
    "import torch.nn.functional as F\n",
    "from torch.utils.data import DataLoader\n",
    "from collections import OrderedDict\n",
    "%matplotlib inline\n",
    "\n",
    "# Get cpu or gpu device for training.\n",
    "device = \"cuda\" if torch.cuda.is_available() else \"cpu\"\n",
    "print(\"Using {} device\".format(device))\n",
    "\n",
    "class DNN(nn.Module):\n",
    "    def __init__(self):\n",
    "        super(DNN, self).__init__()\n",
    "        self.modlist = nn.ModuleList([\n",
    "                       nn.Linear(28*28, 500),\n",
    "                       nn.ReLU(),\n",
    "                       nn.Linear(500, 250),\n",
    "                       nn.ReLU(),\n",
    "                       nn.Linear(250, 125),\n",
    "                       nn.ReLU(),\n",
    "                       nn.Linear(125, 10)\n",
    "                       ])\n",
    "\n",
    "    def forward(self, x):\n",
    "        for m in self.modlist:\n",
    "            x = m(x)\n",
    "        return x\n",
    "        \n",
    "# build model\n",
    "model = DNN().to(device)\n",
    "print(model)\n",
    "\n",
    "for param in model.parameters():\n",
    "    print(type(param.data), param.size())\n",
    "    \n",
    "    \n",
    "for param in model.parameters():\n",
    "    print(type(param.data), param.size())\n",
    "    \n",
    "print(model.modlist[0].weight.shape)\n",
    "print(model.modlist[0].bias.shape)\n",
    "print(model.modlist[0].weight)"
   ]
  },
  {
   "cell_type": "markdown",
   "metadata": {},
   "source": [
    "# Initialization "
   ]
  },
  {
   "cell_type": "code",
   "execution_count": 7,
   "metadata": {},
   "outputs": [
    {
     "name": "stdout",
     "output_type": "stream",
     "text": [
      "Using cpu device\n",
      "DNN(\n",
      "  (fc1): Linear(in_features=784, out_features=500, bias=True)\n",
      "  (fc2): Linear(in_features=500, out_features=250, bias=True)\n",
      "  (fc3): Linear(in_features=250, out_features=125, bias=True)\n",
      "  (fc4): Linear(in_features=125, out_features=10, bias=True)\n",
      ")\n",
      "Parameter containing:\n",
      "tensor([[ 0.0008,  0.0073, -0.0045,  ...,  0.0960,  0.0759, -0.0292],\n",
      "        [ 0.0056, -0.0631,  0.0406,  ..., -0.0312, -0.0259, -0.0485],\n",
      "        [-0.0291, -0.0434,  0.0163,  ..., -0.0661, -0.0468, -0.0272],\n",
      "        ...,\n",
      "        [ 0.0050, -0.0619,  0.0005,  ..., -0.0267, -0.0135, -0.0457],\n",
      "        [ 0.0302,  0.0350,  0.0163,  ...,  0.0068,  0.0630, -0.0709],\n",
      "        [ 0.0268, -0.0179,  0.0049,  ..., -0.0293,  0.0288,  0.0487]],\n",
      "       requires_grad=True)\n"
     ]
    }
   ],
   "source": [
    "import torch \n",
    "import numpy as np \n",
    "from torchvision.datasets import mnist\n",
    "from torch import nn\n",
    "import matplotlib.pyplot as plt\n",
    "import torch.nn.functional as F\n",
    "from torch.utils.data import DataLoader\n",
    "%matplotlib inline\n",
    "\n",
    "# Get cpu or gpu device for training.\n",
    "device = \"cuda\" if torch.cuda.is_available() else \"cpu\"\n",
    "print(\"Using {} device\".format(device))\n",
    "\n",
    "class DNN(nn.Module):\n",
    "    def __init__(self):\n",
    "        super(DNN, self).__init__()\n",
    "        self.fc1 = nn.Linear(28*28, 500)\n",
    "        self.fc2 = nn.Linear(500, 250)\n",
    "        self.fc3 = nn.Linear(250, 125)\n",
    "        self.fc4 = nn.Linear(125, 10)\n",
    "        \n",
    "        \n",
    "        # Initialization\n",
    "        #nn.init.normal_(self.fc1.weight)\n",
    "        nn.init.xavier_normal_(self.fc1.weight)\n",
    "        nn.init.xavier_normal_(self.fc2.weight)\n",
    "        nn.init.xavier_normal_(self.fc3.weight)\n",
    "        nn.init.xavier_normal_(self.fc4.weight)\n",
    "    \n",
    "    def forward(self, x):\n",
    "        x = F.relu(self.fc1(x))\n",
    "        x = F.relu(self.fc2(x))\n",
    "        x = F.relu(self.fc3(x))\n",
    "        x = self.fc4(x)\n",
    "        return x\n",
    "\n",
    "# build model\n",
    "model = DNN().to(device)\n",
    "print(model)\n",
    "\n",
    "    \n",
    "param_list = list(model.parameters())\n",
    "\n",
    "print(param_list[0])"
   ]
  },
  {
   "cell_type": "code",
   "execution_count": 8,
   "metadata": {},
   "outputs": [
    {
     "name": "stdout",
     "output_type": "stream",
     "text": [
      "Using cpu device\n",
      "Parameter containing:\n",
      "tensor([[-0.0359,  0.0355, -0.0214,  ...,  0.0607,  0.0769,  0.0042],\n",
      "        [ 0.0257,  0.0169, -0.0876,  ...,  0.0174,  0.0741,  0.0006],\n",
      "        [-0.0200,  0.0107, -0.0382,  ..., -0.0612, -0.0035, -0.0187],\n",
      "        ...,\n",
      "        [-0.0489,  0.0370,  0.0036,  ...,  0.0375, -0.0311, -0.0690],\n",
      "        [-0.0417,  0.0321, -0.0176,  ...,  0.0074,  0.0039,  0.0118],\n",
      "        [ 0.0095, -0.0461,  0.0050,  ...,  0.0459, -0.0002, -0.0038]],\n",
      "       requires_grad=True)\n"
     ]
    }
   ],
   "source": [
    "import torch \n",
    "import numpy as np \n",
    "from torchvision.datasets import mnist\n",
    "from torch import nn\n",
    "import matplotlib.pyplot as plt\n",
    "import torch.nn.functional as F\n",
    "from torch.utils.data import DataLoader\n",
    "%matplotlib inline\n",
    "\n",
    "# Get cpu or gpu device for training.\n",
    "device = \"cuda\" if torch.cuda.is_available() else \"cpu\"\n",
    "print(\"Using {} device\".format(device))\n",
    "\n",
    "class DNN(nn.Module):\n",
    "    def __init__(self):\n",
    "        super(DNN, self).__init__()\n",
    "        self.fc1 = nn.Linear(28*28, 500)\n",
    "        self.fc2 = nn.Linear(500, 250)\n",
    "        self.fc3 = nn.Linear(250, 125)\n",
    "        self.fc4 = nn.Linear(125, 10)\n",
    "    \n",
    "    def forward(self, x):\n",
    "        x = F.relu(self.fc1(x))\n",
    "        x = F.relu(self.fc2(x))\n",
    "        x = F.relu(self.fc3(x))\n",
    "        x = self.fc4(x)\n",
    "        return x\n",
    "\n",
    "# build model\n",
    "model = DNN().to(device)\n",
    "\n",
    "\n",
    "def init_weights(m):\n",
    "    if type(m) == nn.Linear:\n",
    "        nn.init.xavier_normal_(m.weight)\n",
    "        #nn.init.normal_(m.weight)\n",
    "\n",
    "# Applying it to our net\n",
    "model.apply(init_weights)\n",
    "\n",
    "param_list = list(model.parameters())\n",
    "\n",
    "print(param_list[0])"
   ]
  },
  {
   "cell_type": "markdown",
   "metadata": {},
   "source": [
    "# Build Model"
   ]
  },
  {
   "cell_type": "code",
   "execution_count": 9,
   "metadata": {},
   "outputs": [
    {
     "name": "stdout",
     "output_type": "stream",
     "text": [
      "Using cpu device\n",
      "torch.Size([5, 10])\n",
      "tensor([[-0.1883,  5.6415, -0.6213, -0.0498, -1.2744,  0.5243, -3.8173,  0.2314,\n",
      "         -1.2390,  0.1742],\n",
      "        [ 3.5615,  4.8683, -0.8718,  4.1388, -6.1366,  2.3517,  0.3517,  3.0063,\n",
      "          1.1820,  4.7311],\n",
      "        [ 2.0191,  3.6836,  1.7098, -0.4933, -1.3777,  2.0568,  1.5175,  2.4532,\n",
      "         -2.0629,  0.2942],\n",
      "        [ 5.5021,  4.5418, -0.5516, -2.9963,  0.8186, -1.0930,  3.3970, -0.8900,\n",
      "         -1.0446, -1.4564],\n",
      "        [-1.5829,  2.8881,  3.7467,  1.8935, -1.2839,  2.7168, -1.0233, -2.0714,\n",
      "          0.4680,  2.1834]], grad_fn=<AddmmBackward>)\n"
     ]
    },
    {
     "data": {
      "text/plain": [
       "'\\nfor im, label in train_data:\\n    print(im.shape)\\n    pred2 = model(im) \\n    print(pred2.shape)\\n    print(pred2)\\n\\n    break\\n    \\n'"
      ]
     },
     "execution_count": 9,
     "metadata": {},
     "output_type": "execute_result"
    }
   ],
   "source": [
    "import torch\n",
    "from torchvision.datasets import mnist\n",
    "from torch.utils.data import DataLoader\n",
    "import numpy as np\n",
    "\n",
    "# Get cpu or gpu device for training.\n",
    "device = \"cuda\" if torch.cuda.is_available() else \"cpu\"\n",
    "print(\"Using {} device\".format(device))\n",
    "\n",
    "def data_transform(x):\n",
    "    x = np.array(x, dtype = 'float32') / 255\n",
    "    x = x.reshape((-1, ))\n",
    "    x = torch.from_numpy(x)\n",
    "    return x\n",
    "\n",
    "trainset = mnist.MNIST('./dataset/mnist', train=True, transform=data_transform, download=True)\n",
    "testset = mnist.MNIST('./dataset/mnist', train = False, transform=data_transform, download=True)\n",
    "\n",
    "train_data = DataLoader(trainset, batch_size=64, shuffle=True)\n",
    "test_data = DataLoader(testset, batch_size=128, shuffle=False)\n",
    "\n",
    "class DNN(nn.Module):\n",
    "    def __init__(self):\n",
    "        super(DNN, self).__init__()\n",
    "        self.fc1 = nn.Linear(28*28, 500)\n",
    "        self.fc2 = nn.Linear(500, 250)\n",
    "        self.fc3 = nn.Linear(250, 125)\n",
    "        self.fc4 = nn.Linear(125, 10)\n",
    "    \n",
    "    def forward(self, x):\n",
    "        x = F.relu(self.fc1(x))\n",
    "        x = F.relu(self.fc2(x))\n",
    "        x = F.relu(self.fc3(x))\n",
    "        x = self.fc4(x)\n",
    "        return x\n",
    "\n",
    "# build model\n",
    "model = DNN().to(device)\n",
    "\n",
    "\n",
    "model.train()\n",
    "\n",
    "pred1 = model(trainset.train_data[0:5].reshape(-1,784).float())\n",
    "#pred1 = model(trainset.train_data[0].reshape(-1,784).float())\n",
    "print(pred1.shape)\n",
    "print(pred1)\n",
    "\n",
    "'''\n",
    "for im, label in train_data:\n",
    "    print(im.shape)\n",
    "    pred2 = model(im) \n",
    "    print(pred2.shape)\n",
    "    print(pred2)\n",
    "\n",
    "    break\n",
    "    \n",
    "'''"
   ]
  },
  {
   "cell_type": "code",
   "execution_count": null,
   "metadata": {},
   "outputs": [],
   "source": []
  }
 ],
 "metadata": {
  "kernelspec": {
   "display_name": "Python 3",
   "language": "python",
   "name": "python3"
  },
  "language_info": {
   "codemirror_mode": {
    "name": "ipython",
    "version": 3
   },
   "file_extension": ".py",
   "mimetype": "text/x-python",
   "name": "python",
   "nbconvert_exporter": "python",
   "pygments_lexer": "ipython3",
   "version": "3.8.5"
  }
 },
 "nbformat": 4,
 "nbformat_minor": 4
}
